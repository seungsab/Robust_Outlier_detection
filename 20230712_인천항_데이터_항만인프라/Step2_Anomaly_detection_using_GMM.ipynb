{
 "cells": [
  {
   "cell_type": "markdown",
   "metadata": {},
   "source": [
    "#### **0. Import Libraries and define Options**"
   ]
  },
  {
   "cell_type": "markdown",
   "metadata": {},
   "source": [
    "***Import Libraries***"
   ]
  },
  {
   "cell_type": "code",
   "execution_count": null,
   "metadata": {},
   "outputs": [],
   "source": [
    "import numpy as np\n",
    "import seaborn as sns\n",
    "import matplotlib.pylab as plt\n",
    "import pandas as pd\n",
    "import scipy.stats\n",
    "import warnings\n",
    "warnings.filterwarnings('ignore')"
   ]
  },
  {
   "cell_type": "markdown",
   "metadata": {},
   "source": [
    "***Define some hyperparameters***"
   ]
  },
  {
   "cell_type": "markdown",
   "metadata": {},
   "source": [
    "---\n",
    "$$\n",
    "    \\text{Hyperparamerters you should define}\n",
    "$$\n",
    "---"
   ]
  },
  {
   "cell_type": "code",
   "execution_count": null,
   "metadata": {},
   "outputs": [],
   "source": [
    "# Set initial Training samples\n",
    "# IDX_INIT_MODEL = 20000\n",
    "IDX_INIT_MODEL = 10000\n",
    "\n",
    "# Optimal PC Selection Method\n",
    "cv_types = [\"full\"]\n",
    "\n",
    "# Significance level for setting threshold\n",
    "# 99.7% inlier and 1% outlier\n",
    "alpha = [0.95, 0.997] # 95%, 99.7%\n",
    "\n",
    "# Define type of anomaly detection\n",
    "col_interest = ['CG_1'] # unitvariate analysis\n",
    "# col_interest = ['CG_2'] # unitvariate analysis\n",
    "# col_interest = ['TT_1'] # unitvariate analysis\n",
    "# col_interest = ['TT_2'] # unitvariate analysis\n",
    "# col_interest = ['CG_3'] # unitvariate analysis\n",
    "# col_interest = ['CG_4'] # unitvariate analysis\n",
    "# col_interest = ['TT_3'] # unitvariate analysis\n",
    "# col_interest = ['TT_4'] # unitvariate analysi/s\n",
    "max_n_comp_GMM = len(col_interest) + 3 # Empirical set-up"
   ]
  },
  {
   "cell_type": "markdown",
   "metadata": {},
   "source": [
    "---"
   ]
  },
  {
   "cell_type": "markdown",
   "metadata": {},
   "source": [
    "#### **1. Load Dataset**"
   ]
  },
  {
   "cell_type": "code",
   "execution_count": null,
   "metadata": {},
   "outputs": [],
   "source": [
    "import pickle\n",
    "\n",
    "# load\n",
    "fn_load = 'J_Dataset_1101_0630_outlier_3sig'\n",
    "\n",
    "with open(fn_load + '.pickle', 'rb') as f:\n",
    "    data = pickle.load(f)\n",
    "\n",
    "fn = data['fn']\n",
    "damage_ind = data['damage_ind']\n",
    "df1, df3 = data['data'][0], data['data'][1]"
   ]
  },
  {
   "cell_type": "markdown",
   "metadata": {},
   "source": [
    "#### **2. Set Dataset (Train & Test)**"
   ]
  },
  {
   "cell_type": "markdown",
   "metadata": {},
   "source": [
    "***Define Dataset***"
   ]
  },
  {
   "cell_type": "code",
   "execution_count": null,
   "metadata": {},
   "outputs": [],
   "source": [
    "if int(col_interest[0][-1:]) < 3:\n",
    "    col_list = ['Time', 'CG_1', 'CG_2', 'TT_1', 'TT_2']\n",
    "    df = df1[col_list]\n",
    "    Label = df1.Label.values\n",
    "\n",
    "else:\n",
    "    col_list = ['Time', 'CG_3', 'CG_4', 'TT_3', 'TT_4']\n",
    "    df = df3[col_list]\n",
    "    Label = df3.Label.values\n",
    "\n",
    "X_all = df.values[:, 1:]"
   ]
  },
  {
   "cell_type": "markdown",
   "metadata": {},
   "source": [
    "***Reduce the sequence of dataset (too many samples)***\n",
    "\n",
    "<font color= 'red'><B>\n",
    "sample should be reduced for computational issues in this tutorial. In reality, it doesn't matter becauses of online implemtation.\n",
    "</font></B>"
   ]
  },
  {
   "cell_type": "code",
   "execution_count": null,
   "metadata": {},
   "outputs": [],
   "source": [
    "n_skip = 10\n",
    "\n",
    "def reduce_sequence_by_skip(n_skip, dat):\n",
    "    if isinstance(dat, pd.DataFrame):\n",
    "        dat = dat.iloc[::n_skip, :]\n",
    "    else:\n",
    "        if dat.ndim == 1:\n",
    "            dat = dat[::n_skip,]\n",
    "        else:\n",
    "            dat = dat[::n_skip, :]\n",
    "        \n",
    "    return dat\n",
    "\n",
    "Label = reduce_sequence_by_skip(n_skip, Label)\n",
    "X_all = reduce_sequence_by_skip(n_skip, X_all)\n",
    "df = reduce_sequence_by_skip(n_skip, df)\n",
    "\n",
    "IDX_INIT_MODEL = int(IDX_INIT_MODEL/n_skip)\n",
    "df = df.reset_index()"
   ]
  },
  {
   "cell_type": "markdown",
   "metadata": {},
   "source": [
    "***Find damage index as # index of sample***"
   ]
  },
  {
   "cell_type": "code",
   "execution_count": null,
   "metadata": {},
   "outputs": [],
   "source": [
    "damage_ind = []\n",
    "for ind_label in np.unique(Label):\n",
    "    if ind_label != 0:\n",
    "        ind_damage = np.where(Label == ind_label)[0][0]\n",
    "        damage_ind.append(ind_damage)\n",
    "damage_ind"
   ]
  },
  {
   "cell_type": "markdown",
   "metadata": {},
   "source": [
    "***Plot Ground Truth (label)***"
   ]
  },
  {
   "cell_type": "code",
   "execution_count": null,
   "metadata": {},
   "outputs": [],
   "source": [
    "# Plot scatter plot (Time index vs. Label)\n",
    "color_type_str = ['blue', 'orange', 'red']\n",
    "\n",
    "plt.figure(figsize = (10, 3), dpi = 200)\n",
    "for label_ind in np.unique(Label):\n",
    "    indice_ = np.where(Label == label_ind)\n",
    "    plt.plot(df.Time.iloc[indice_], Label[indice_], marker = '.', color = color_type_str[label_ind])\n",
    "plt.xlabel('Time')\n",
    "plt.ylabel('Label')\n",
    "plt.gca().set_yticks([0, label_ind])\n",
    "plt.grid(linestyle = ':')\n",
    "if 'CG_1' in df.columns:\n",
    "    struct_type = 'Caisson #1'\n",
    "else:\n",
    "    struct_type = 'Caisson #3'\n",
    "\n",
    "plt.title(struct_type)\n",
    "plt.show()"
   ]
  },
  {
   "cell_type": "markdown",
   "metadata": {},
   "source": [
    "***Define Training and Test Dataset***"
   ]
  },
  {
   "cell_type": "code",
   "execution_count": null,
   "metadata": {},
   "outputs": [],
   "source": [
    "# Set last index for normal state\n",
    "IDX_NORMAL = damage_ind[0]\n",
    "\n",
    "if IDX_INIT_MODEL > IDX_NORMAL:\n",
    "    IDX_INIT_MODEL = IDX_NORMAL\n",
    "    print(f'Index for Normal state should be less than index of damage {damage_ind[0]}')\n",
    "\n",
    "# For Allocation of memory\n",
    "SIZE_ALL = X_all.shape[0]"
   ]
  },
  {
   "cell_type": "markdown",
   "metadata": {},
   "source": [
    "***Plot Rawdata in line plot***"
   ]
  },
  {
   "cell_type": "code",
   "execution_count": null,
   "metadata": {},
   "outputs": [],
   "source": [
    "if 0:\n",
    "    color_type_str = ['blue', 'orange', 'red']\n",
    "\n",
    "    for col_ind in range(X_all.shape[1]):\n",
    "        plt.figure(figsize = (10, 3), dpi = 200)\n",
    "        for label_ind in np.unique(Label):\n",
    "            row_ind = np.where(Label == label_ind)\n",
    "            plt.plot(df.Time.iloc[row_ind], X_all[row_ind, col_ind].reshape(-1, 1),\n",
    "                    marker = '.', color = color_type_str[label_ind])\n",
    "        plt.xlabel('Time')\n",
    "        plt.ylabel(list(df.columns[1:])[col_ind])\n",
    "        plt.grid(linestyle = ':')\n",
    "        plt.title(struct_type)\n",
    "        plt.show()"
   ]
  },
  {
   "cell_type": "markdown",
   "metadata": {},
   "source": [
    "#### **3. Set Initial Dataset & Scaling (Standardization)**"
   ]
  },
  {
   "cell_type": "code",
   "execution_count": null,
   "metadata": {},
   "outputs": [],
   "source": [
    "# Set initial Training samples\n",
    "print(f'Variables = {col_interest}')"
   ]
  },
  {
   "cell_type": "markdown",
   "metadata": {},
   "source": [
    "***Set Initial Traininigset and Testset***\n",
    "\n",
    "Make dataset and result in the form of `Pandas.Dataframe` structure"
   ]
  },
  {
   "cell_type": "code",
   "execution_count": null,
   "metadata": {},
   "outputs": [],
   "source": [
    "import pandas as pd\n",
    "\n",
    "df_all = df[col_interest]\n",
    "df_all['labels'] = Label\n",
    "df_all['Anomaly_Score'] = 0\n",
    "df_all['Is_anomaly_95'], df_all['Is_anomaly_99'] = 0, 0\n",
    "df_all\n",
    "\n",
    "df_train = df_all.iloc[0:IDX_INIT_MODEL,:]\n",
    "df_test = df_all.iloc[IDX_INIT_MODEL:,:]"
   ]
  },
  {
   "cell_type": "code",
   "execution_count": null,
   "metadata": {},
   "outputs": [],
   "source": [
    "import os\n",
    "folder_dir = 'fig_result'\n",
    "os.makedirs(folder_dir, exist_ok = True)\n",
    "\n",
    "fn_interest_ = ''\n",
    "for col_interest1 in col_interest:\n",
    "    fn_interest_ = fn_interest_ + col_interest1 + '_'\n",
    "\n",
    "fn_interest_ = fn_interest_ + str(IDX_INIT_MODEL)\n",
    "\n",
    "fn_sv_name = f'./{folder_dir}/{fn_interest_}_'"
   ]
  },
  {
   "cell_type": "markdown",
   "metadata": {},
   "source": [
    "#### **4. Construct Baseline model using initial trainig dataset**"
   ]
  },
  {
   "cell_type": "markdown",
   "metadata": {},
   "source": [
    "***Define some Helper functions***"
   ]
  },
  {
   "cell_type": "markdown",
   "metadata": {},
   "source": [
    "- Fitting GMM with model selection framework based on BIC"
   ]
  },
  {
   "cell_type": "code",
   "execution_count": null,
   "metadata": {},
   "outputs": [],
   "source": [
    "def fit_best_GMM(X, n_comp_min = 1, n_comp_max = 5, cv_types = [\"spherical\", \"tied\", \"diag\", \"full\"]):\n",
    "    import numpy as np\n",
    "    import itertools\n",
    "\n",
    "    from scipy import linalg\n",
    "    import matplotlib.pyplot as plt\n",
    "    import matplotlib as mpl\n",
    "\n",
    "    from sklearn import mixture\n",
    "\n",
    "    if X.shape[1] == 1:\n",
    "        cv_types = 'Uni'\n",
    "\n",
    "    lowest_bic = np.infty\n",
    "    fitted_gmms, bic = [], []\n",
    "    n_components_range = range(n_comp_min, n_comp_max)\n",
    "    cv_types = cv_types\n",
    "    for cv_type in cv_types:\n",
    "        for n_components in n_components_range:\n",
    "            # Fit a Gaussian mixture with EM\n",
    "            if X.shape[1] == 1:\n",
    "                gmm = mixture.GaussianMixture(n_components = n_components)\n",
    "            else:\n",
    "                gmm = mixture.GaussianMixture(\n",
    "                    n_components = n_components, covariance_type = cv_type)\n",
    "            gmm.fit(X)\n",
    "            fitted_gmms.append(gmm)\n",
    "            bic.append(gmm.bic(X))\n",
    "            if bic[-1] < lowest_bic:\n",
    "                lowest_bic = bic[-1]\n",
    "                best_gmm = gmm\n",
    "\n",
    "    return fitted_gmms, best_gmm, bic"
   ]
  },
  {
   "cell_type": "markdown",
   "metadata": {},
   "source": [
    "- Compute anomaly score (log-likelihood) and threshold"
   ]
  },
  {
   "cell_type": "code",
   "execution_count": null,
   "metadata": {},
   "outputs": [],
   "source": [
    "def compute_anomaly_score(Xtrain_scaled, best_gmm):\n",
    "    # Get the anomaly score for training data\n",
    "    return best_gmm.score_samples(Xtrain_scaled)"
   ]
  },
  {
   "cell_type": "code",
   "execution_count": null,
   "metadata": {},
   "outputs": [],
   "source": [
    "def compute_threshold(Xtrain_scaled, best_gmm, alpha):\n",
    "    # Get the anomaly score for training data\n",
    "    score = compute_anomaly_score(Xtrain_scaled, best_gmm)\n",
    "    \n",
    "    # Compute threshold from training data with significant level\n",
    "    significance_level = 1 - alpha[0] # 95% inlier and 5% outlier\n",
    "    pct_threshold95 = np.percentile(score, significance_level) # 99% significnace level\n",
    "\n",
    "    significance_level = 1 - alpha[1] # 95% inlier and 5% outlier\n",
    "    pct_threshold99 = np.percentile(score, significance_level) # 99% significnace level\n",
    "    \n",
    "    return pct_threshold95, pct_threshold99"
   ]
  },
  {
   "cell_type": "markdown",
   "metadata": {},
   "source": [
    "- Evaluate anomaly based on score and threshold"
   ]
  },
  {
   "cell_type": "code",
   "execution_count": null,
   "metadata": {},
   "outputs": [],
   "source": [
    "def evaluate_anomaly(score, pct_threshold):\n",
    "    return score < pct_threshold"
   ]
  },
  {
   "cell_type": "markdown",
   "metadata": {},
   "source": [
    "- Plot function for display anomly dectection result"
   ]
  },
  {
   "cell_type": "code",
   "execution_count": null,
   "metadata": {},
   "outputs": [],
   "source": [
    "# Plot lnliers and outliers\n",
    "def plot_anomaly_detection_result(df_train, df_threshold):\n",
    "    outliers95, outliers99 = df_train['Is_anomaly_95'], df_train['Is_anomaly_99']\n",
    "    \n",
    "    # print(f'outlier ratio w/ threshold 95%: {outliers95.sum()/df_train.shape[0] * 100:.2f} %')    \n",
    "    fig, ax = plt.subplots(2, 1, figsize = (10, 6), dpi = 200)\n",
    "    markerline, stemlines, baseline = ax[0].stem(df_train.index, df_train['Anomaly_Score'])\n",
    "    plt.setp(markerline, 'markersize', 1, 'color', 'k')\n",
    "    plt.setp(stemlines, 'linestyle', '-', 'linewidth', 0.5, 'alpha', 0.1)\n",
    "    plt.setp(baseline, 'color', 'k')\n",
    "    ax[0].plot(df_train.index[outliers95], df_train.loc[outliers95, 'Anomaly_Score'], 'ro', ls = 'None', label = 'outliers')\n",
    "    ax[0].plot(df_threshold['Threshold_95'], color = '#DFA290')\n",
    "    ax[0].set_title(f'# outliers: {outliers99.sum()} // # inliers: {df_train.shape[0] - outliers95.sum()} with {alpha[0]*100} %')\n",
    "    # plt.show()\n",
    "\n",
    "    # print(f'outlier ratio w/ threshold 99%: {outliers99.sum()/df_train.shape[0] * 100:.2f} %')\n",
    "    # plt.figure(figsize = (10, 3), dpi = 200)\n",
    "    markerline, stemlines, baseline = ax[1].stem(df_train.index, df_train['Anomaly_Score'])\n",
    "    plt.setp(markerline, 'markersize', 1, 'color', 'k')\n",
    "    plt.setp(stemlines, 'linestyle', '-', 'linewidth', 0.5, 'alpha', 0.1)\n",
    "    plt.setp(baseline, 'color', 'k')\n",
    "    ax[1].plot(df_train.index[outliers99], df_train.loc[outliers99, 'Anomaly_Score'], 'ro', ls = 'None', label = 'outliers')\n",
    "    ax[1].plot(df_threshold['Threshold_99'], color = '#DFA290')\n",
    "    ax[1].set_title(f'# outliers: {outliers99.sum()} // # inliers: {df_train.shape[0] - outliers95.sum()} with {alpha[1]*100} %')\n",
    "    fig.tight_layout()\n",
    "\n",
    "    plt.savefig(fn_sv_name + 'threshold.png', dpi = 200, bbox_inches = 'tight')    \n",
    "    plt.show()"
   ]
  },
  {
   "cell_type": "markdown",
   "metadata": {},
   "source": [
    "***Options for COV-type in GMM***"
   ]
  },
  {
   "cell_type": "markdown",
   "metadata": {},
   "source": [
    "<center> <p><img src=\"data:image/png;base64,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\"></p> </center>"
   ]
  },
  {
   "cell_type": "markdown",
   "metadata": {},
   "source": [
    "> To simplify fitting stage, we consider only `full` covariance type"
   ]
  },
  {
   "cell_type": "markdown",
   "metadata": {},
   "source": [
    "***Fit initial GMM as Baseline model***"
   ]
  },
  {
   "cell_type": "markdown",
   "metadata": {},
   "source": [
    "- *Define standardizer (scaling)*"
   ]
  },
  {
   "cell_type": "code",
   "execution_count": null,
   "metadata": {},
   "outputs": [],
   "source": [
    "from sklearn.preprocessing import StandardScaler\n",
    "\n",
    "scaler = StandardScaler()\n",
    "Xtrain = df_train.iloc[:, :len(col_interest)].values\n",
    "Xtrain_scaled = scaler.fit_transform(Xtrain)"
   ]
  },
  {
   "cell_type": "code",
   "execution_count": null,
   "metadata": {},
   "outputs": [],
   "source": [
    "color_type_str = ['blue', 'orange', 'red']\n",
    "for col_ind in col_interest:\n",
    "    fig, ax = plt.subplots(2, 1, figsize = (7, 5), dpi = 200, sharex = True)\n",
    "    for label_ind in np.unique(Label):\n",
    "        row_ind = np.where(Label == label_ind)\n",
    "        ax[0].plot(row_ind[0], df_all.iloc[row_ind]['labels'],\n",
    "                marker = '.', color = color_type_str[label_ind])\n",
    "\n",
    "        ax[1].plot(row_ind[0], df_all.iloc[row_ind][col_ind],\n",
    "                marker = '.', color = color_type_str[label_ind])\n",
    "    \n",
    "    ax[0].set_ylabel('Label')\n",
    "    ax[0].set_yticks([0, label_ind])\n",
    "    ax[0].grid(linestyle = ':')\n",
    "    ax[0].axvline(x = IDX_INIT_MODEL, color = 'k', linestyle = '--', label = 'End of trainset')\n",
    "\n",
    "    ax[1].set_xlabel('# Sample')\n",
    "    ax[1].set_ylabel(f'Standardized {col_ind}')\n",
    "    ax[1].axvline(x = IDX_INIT_MODEL, color = 'k', linestyle = '--', label = 'End of trainset')\n",
    "    ax[1].grid(linestyle = ':')\n",
    "    plt.suptitle(struct_type)\n",
    "    fig.tight_layout()\n",
    "    plt.savefig(fn_sv_name + f'traingset_{col_ind}.png', dpi = 200, bbox_inches = 'tight')\n",
    "    plt.show()\n"
   ]
  },
  {
   "cell_type": "markdown",
   "metadata": {},
   "source": [
    "- *Fit GMM with model selection framework*"
   ]
  },
  {
   "cell_type": "code",
   "execution_count": null,
   "metadata": {},
   "outputs": [],
   "source": [
    "# Automatic model selection for GMM\n",
    "fitted_gmm, best_gmm, bics = fit_best_GMM(Xtrain_scaled,\n",
    "                                        n_comp_min = 1, n_comp_max = max_n_comp_GMM,\n",
    "                                        cv_types = cv_types)\n",
    "\n",
    "df_gmm = []\n",
    "for gmm, bic in zip(fitted_gmm, bics):\n",
    "    df_gmm.append([gmm.covariance_type, gmm.n_components, bic])\n",
    "df_gmm = pd.DataFrame(df_gmm, columns = ['covariance_type', 'n_component', 'bic'])\n",
    "df_gmm.sort_values(by=['bic'], ignore_index = True)\n",
    "\n",
    "print(f'[Best GMM] Cov_type:  {best_gmm.covariance_type} // # Opt. comp.: {best_gmm.n_components}')"
   ]
  },
  {
   "cell_type": "markdown",
   "metadata": {},
   "source": [
    "- *Compute anomaly score and threshold*"
   ]
  },
  {
   "cell_type": "code",
   "execution_count": null,
   "metadata": {},
   "outputs": [],
   "source": [
    "score = compute_anomaly_score(Xtrain_scaled, best_gmm)\n",
    "\n",
    "pct_threshold95, pct_threshold99 = compute_threshold(Xtrain_scaled, best_gmm, alpha)\n",
    "\n",
    "df_train['Anomaly_Score'] = score\n",
    "\n",
    "df_threshold = pd.DataFrame()\n",
    "df_threshold.index = df_train.index\n",
    "df_threshold['Threshold_95'] = pct_threshold95\n",
    "df_threshold['Threshold_99'] = pct_threshold99"
   ]
  },
  {
   "cell_type": "markdown",
   "metadata": {},
   "source": [
    "- *Evaluate anomality*"
   ]
  },
  {
   "cell_type": "code",
   "execution_count": null,
   "metadata": {},
   "outputs": [],
   "source": [
    "score = df_train['Anomaly_Score']\n",
    "anomaly_index95 = evaluate_anomaly(score, pct_threshold95)\n",
    "anomaly_index99 = evaluate_anomaly(score, pct_threshold99)\n",
    "\n",
    "df_train['Is_anomaly_95'] = anomaly_index95\n",
    "df_train['Is_anomaly_99'] = anomaly_index99\n",
    "\n",
    "plot_anomaly_detection_result(df_train, df_threshold)"
   ]
  },
  {
   "cell_type": "markdown",
   "metadata": {},
   "source": [
    "#### **5. Monitoring Phase (Evaluation Stage)**"
   ]
  },
  {
   "cell_type": "markdown",
   "metadata": {},
   "source": [
    "***Define some Helper functions***"
   ]
  },
  {
   "cell_type": "markdown",
   "metadata": {},
   "source": [
    "- Select inlier samples in your trainset (99% threshold is set to reference value)"
   ]
  },
  {
   "cell_type": "code",
   "execution_count": null,
   "metadata": {},
   "outputs": [],
   "source": [
    "def select_inliers_from_trainingset(df_train, ref = 'Is_anomaly_99'): # or Is_anomaly_99\n",
    "    return df_train[df_train[ref] == False]"
   ]
  },
  {
   "cell_type": "code",
   "execution_count": null,
   "metadata": {},
   "outputs": [],
   "source": [
    "# Update df_all (look-up table) using initial baseline\n",
    "df_all.iloc[:df_train.shape[0], :] = df_train.iloc[:df_train.shape[0], :]\n",
    "\n",
    "# Monitoring phase\n",
    "ind_start, ind_end, ind_step = df_train.shape[0], df_all.shape[0], 100\n",
    "for ind in range(ind_start, ind_end, ind_step): # Monitoring phase (herein, testset)\n",
    "    if ind + ind_step > ind_end:\n",
    "        ind_ = list(range(ind, ind_end))\n",
    "    else:\n",
    "        ind_ = list(range(ind, ind + ind_step))\n",
    "\n",
    "    # print(f'{ind}/{df_all.shape[0]}', end = '\\r')\n",
    "    ## 1. Evaluate New sample ##\n",
    "    # Evaluate whether if new samples is inlier or not?\n",
    "    ###################################\n",
    "    # 1-1) Select new sample\n",
    "    ###################################\n",
    "    df_new = df_all.iloc[ind_, :]\n",
    "    \n",
    "    ###################################\n",
    "    # 1-2) Standardize new sample using scaler of new trainset (scaling)\n",
    "    ###################################\n",
    "    x_new = df_new.iloc[:, :len(col_interest)].values # Before standardization (raw)\n",
    "    if x_new.shape[1] > 1:\n",
    "        x_new_scaled = scaler.transform(x_new) # Standardize new sample (Scaled)\n",
    "    else:\n",
    "        x_new_scaled = scaler.transform(x_new.reshape(-1, 1)) # Standardize new sample (Scaled)\n",
    "\n",
    "    ###################################\n",
    "    # 1-3) Compute anomaly score using baseline model(GMM)\n",
    "    ###################################\n",
    "    score_new = compute_anomaly_score(x_new_scaled, best_gmm)\n",
    "    # Update infromation of df_new\n",
    "    df_new['Anomaly_Score'] = score_new # score_new[0]\n",
    "    df_new['Is_anomaly_95'] = evaluate_anomaly(score_new, pct_threshold95)\n",
    "    df_new['Is_anomaly_99'] = evaluate_anomaly(score_new, pct_threshold99)\n",
    "    \n",
    "    # Update df_thresh\n",
    "    tmp_thresh = np.hstack(\n",
    "        (np.ones((df_new.shape[0], 1)).reshape(-1, 1) * pct_threshold95, \n",
    "        np.ones((df_new.shape[0], 1)).reshape(-1, 1) * pct_threshold99))\n",
    "    tmp_thresh_ = pd.DataFrame(tmp_thresh, columns = list(df_threshold.columns))\n",
    "    df_threshold = pd.concat([df_threshold, tmp_thresh_], axis = 0, ignore_index = True)\n",
    "    \n",
    "    # Update our look-up table (df_all) for new sample\n",
    "    df_all.iloc[ind_] = df_new\n",
    "\n",
    "    ###################################\n",
    "    # 2) Waypoint according to anomaly result \n",
    "    ###################################\n",
    "    \n",
    "    if df_new['Is_anomaly_99'].to_numpy()[0]: # New sample is anomaly => Keep baseline model\n",
    "        # Do nothing! and Just turn around!\n",
    "        continue\n",
    "    else: # New sample is not anomaly => Update baseline model\n",
    "        \n",
    "        ## 2. Update Baseline model ##\n",
    "        # 2-1) Adding new sample to the current trainingset\n",
    "        ###################################\n",
    "        df_train = pd.concat([df_train, df_new], axis = 0, ignore_index = True)\n",
    "\n",
    "        # 2-2) Define new trainset based on anomaly detection result\n",
    "        ###################################\n",
    "        # df_train_new = select_inliers_from_trainingset(df_train, ref = 'Is_anomaly_95')\n",
    "        df_train_new = select_inliers_from_trainingset(df_train, ref = 'Is_anomaly_99')\n",
    "\n",
    "        ###################################\n",
    "        # 2-3) Standardization of new trainset (scaling)\n",
    "        ###################################\n",
    "        Xtrain_new = df_train_new.iloc[:, :len(col_interest)].values\n",
    "        Xtrain_new_scaled = scaler.fit_transform(Xtrain_new)\n",
    "\n",
    "        ###################################\n",
    "        # 2-4) Update our baseline model (GMM) with new trainset\n",
    "        ###################################\n",
    "        # Automatic model selection for GMM\n",
    "        _, best_gmm, bics = fit_best_GMM(Xtrain_new_scaled,\n",
    "                                            n_comp_min = 1, n_comp_max = max_n_comp_GMM,\n",
    "                                            cv_types = cv_types)\n",
    "\n",
    "        ###################################\n",
    "        # 2-5) Update threshold based on new trainset\n",
    "        ###################################\n",
    "        pct_threshold95, pct_threshold99 = compute_threshold(Xtrain_new_scaled, best_gmm, alpha)"
   ]
  },
  {
   "cell_type": "markdown",
   "metadata": {},
   "source": [
    "- Comformal prediction => stoppting criteria => based on significance level (alpha)"
   ]
  },
  {
   "cell_type": "code",
   "execution_count": null,
   "metadata": {},
   "outputs": [],
   "source": [
    "def plot_final_result(df_all, df_threshold, IDX_INIT_MODEL, col_interest, ref_thresh = 'Threshold_99'):\n",
    "    Label = df_all['labels'].values\n",
    "    color_type_str = ['blue', 'orange', 'red']\n",
    "\n",
    "    for col_ind in col_interest:\n",
    "        # Share both X and Y axes with all subplots\n",
    "        _, ax = plt.subplots(3, 1, sharex='all', figsize = (10, 6), dpi = 200)\n",
    "        for label_ind in np.unique(Label):\n",
    "            row_ind = np.where(Label == label_ind)\n",
    "            ax[0].plot(row_ind[0], df_all.iloc[row_ind][col_ind],\n",
    "                    marker = '.', color = color_type_str[label_ind], markersize = 1)\n",
    "        ax[0].axvline(x = IDX_INIT_MODEL, color = 'c', linestyle = '--', label = 'End of trainset')\n",
    "        ax[0].grid(linestyle = ':')\n",
    "        ax[0].set_ylabel(f'{col_ind}')\n",
    "    for ind_damage_ in damage_ind:\n",
    "        ax[0].axvline(x = ind_damage_, color = 'r', linestyle = '--', label = 'Abnormal Event')\n",
    "    ax[0].legend(loc = 'best')\n",
    "\n",
    "    alpha = int(ref_thresh[-2:])\n",
    "\n",
    "    col_thresh = f'Is_anomaly_{alpha}'\n",
    "    outlier_index = df_all[col_thresh]\n",
    "\n",
    "    markerline, stemlines, baseline = ax[1].stem(df_all.index, df_all['Anomaly_Score'])\n",
    "    plt.setp(markerline, 'markersize', 0.5, 'color', 'k')\n",
    "    plt.setp(stemlines, 'linestyle', '-', 'linewidth', 0.5, 'alpha', 0.1)\n",
    "    plt.setp(baseline, 'color', 'k')\n",
    "    ax[1].plot(df_all.index[outlier_index], df_all.loc[outlier_index, 'Anomaly_Score'], 'ro',\n",
    "            markersize = 1, ls = 'None', label = 'outliers')\n",
    "    ax[1].plot(df_threshold[ref_thresh], linestyle = '--', color = '#DFA290')\n",
    "    ax[1].axvline(x = IDX_INIT_MODEL, color = 'c', linestyle = '--')\n",
    "    ax[1].grid(linestyle = ':')\n",
    "    ax[1].set_ylabel('Anomaly Score')\n",
    "    ax[1].set_ylim([df_threshold[ref_thresh].values.min() - 2, 1])\n",
    "    ax[1].set_xlabel(f'# Sample')\n",
    "    for ind_damage_ in damage_ind:\n",
    "        ax[1].axvline(x = ind_damage_, color = 'r', linestyle = '--')\n",
    "    ax[1].legend(loc = 'best')\n",
    "\n",
    "    markerline, stemlines, baseline = ax[2].stem(df_all.index, df_all['Anomaly_Score'])\n",
    "    plt.setp(markerline, 'markersize', 0.5, 'color', 'k')\n",
    "    plt.setp(stemlines, 'linestyle', '-', 'linewidth', 0.5, 'alpha', 0.1)\n",
    "    plt.setp(baseline, 'color', 'k')\n",
    "    ax[2].plot(df_all.index[outlier_index], df_all.loc[outlier_index, 'Anomaly_Score'], 'ro',\n",
    "            markersize = 1, ls = 'None', label = 'outliers')\n",
    "    ax[2].plot(df_threshold[ref_thresh], linestyle = '--', color = '#DFA290')\n",
    "    ax[2].axvline(x = IDX_INIT_MODEL, color = 'c', linestyle = '--')\n",
    "    ax[2].grid(linestyle = ':')\n",
    "    ax[2].set_ylabel('Anomaly Score')\n",
    "    ax[2].set_xlabel(f'# Sample')\n",
    "    for ind_damage_ in damage_ind:\n",
    "        ax[2].axvline(x = ind_damage_, color = 'r', linestyle = '--')\n",
    "    ax[2].legend(loc = 'best')\n",
    "    \n",
    "    plt.suptitle(f'Anomaly detection with alpha = {ref_thresh[-2:]} %')\n",
    "    plt.show()"
   ]
  },
  {
   "cell_type": "code",
   "execution_count": null,
   "metadata": {},
   "outputs": [],
   "source": [
    "plot_final_result(df_all, df_threshold, IDX_INIT_MODEL, col_interest, ref_thresh = 'Threshold_99')"
   ]
  },
  {
   "cell_type": "markdown",
   "metadata": {},
   "source": [
    "https://colab.research.google.com/drive/1uRsj9GvF-MJrnEYvBczqSBDnJpTmFWAX?usp=sharing#scrollTo=DzfvD21_YumL"
   ]
  },
  {
   "cell_type": "code",
   "execution_count": null,
   "metadata": {},
   "outputs": [],
   "source": []
  }
 ],
 "metadata": {
  "kernelspec": {
   "display_name": "Robust_OD_port_infras",
   "language": "python",
   "name": "python3"
  },
  "language_info": {
   "codemirror_mode": {
    "name": "ipython",
    "version": 3
   },
   "file_extension": ".py",
   "mimetype": "text/x-python",
   "name": "python",
   "nbconvert_exporter": "python",
   "pygments_lexer": "ipython3",
   "version": "3.8.16"
  }
 },
 "nbformat": 4,
 "nbformat_minor": 2
}
