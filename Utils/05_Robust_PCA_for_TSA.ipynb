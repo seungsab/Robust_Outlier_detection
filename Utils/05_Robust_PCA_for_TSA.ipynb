{
 "cells": [
  {
   "attachments": {},
   "cell_type": "markdown",
   "metadata": {},
   "source": [
    "## **[RobustPCA for Time Series Forecasting and Anomaly Detection](https://medium.com/@naveenk903/robustpca-for-time-series-forecasting-and-anomaly-detection-a4590c67c7fc)**"
   ]
  },
  {
   "attachments": {},
   "cell_type": "markdown",
   "metadata": {},
   "source": [
    "### **Introduction**\n",
    "\n",
    "Robust Principal Component Analysis (RobustPCA) is an advanced technique for decomposing a time series matrix into a low-rank component and a sparse component. This decomposition enables the identification of underlying trends, as well as the detection of anomalies and outliers. In this post, we will delve into the mathematical underpinnings of RobustPCA, discuss its advantages, explore its implementation, and provide visualizations to better understand its applications in time series forecasting and anomaly detection."
   ]
  },
  {
   "attachments": {},
   "cell_type": "markdown",
   "metadata": {},
   "source": [
    "### **Mathematical Foundations of RobustPCA**\n",
    "RobustPCA is an extension of the classical Principal Component Analysis (PCA), which aims to find the low-dimensional representation of high-dimensional data by capturing its principal components. However, **_classical PCA is sensitive to outliers and may perform poorly in the presence of noise._**  \n",
    "\n",
    "**RobustPCA addresses this issue by decomposing a time series matrix into two components: a low-rank component that captures the underlying trends and a sparse component that accounts for the outliers.**"
   ]
  },
  {
   "attachments": {},
   "cell_type": "markdown",
   "metadata": {},
   "source": [
    "Given a time series matrix `X`, the RobustPCA decomposition can be expressed as:\n",
    "\n",
    "$$\n",
    "    X = L + S\n",
    "$$"
   ]
  },
  {
   "attachments": {},
   "cell_type": "markdown",
   "metadata": {},
   "source": [
    "<center> <p><img src=\"data:image/png;base64,UklGRjojAABXRUJQVlA4WAoAAAAIAAAAogIA3QAAVlA4IFoiAACwngCdASqjAt4APm0ylkakIyIhK9sZIIANiUkarHtuJ1dzXHkqH0+PoPT5E8CvUxJZQptAL8A1+/5d4AHaAc773P8Ht2s0d2/wH7L/2f9vPmuqr9M/r35o/KH8HrxTxflv/Zf3f96f9F81f5p/P/6r+3/92////i/Cv9m/wX90/OH6Af8t/If9B/c+s7+unqG/nX9m/8H99/f/5cv8N/5P777kvQA/n3+Q///rmex//d/+1///cb/hv+X//ntK/7z9lv+d8s/99/2X7VfDH+zX/s1jvyb/gPyX+Jvjh9Y/H/xG+vl6w/zP/qfXjiHtR+cL3n+2/tb/Zf3T+/H8V/ZPto9Vfil/TeoF6c/wf9c/cz+2/RRBdcBet3zP/Xf3b9qPfA+M/t/5l+6vzM+4B/OP6P/l/Wf/b/67ya/sn/N9gX+Nf0D/L/3j8dvju/1f83+XXvU+qf+1/nvx8+xr+c/1z/g9hv92PYt/aM0kqqKxpW2x4Bys4V7H5GW+d4C9YlAx6yBFcn820/2H8YU0/JkhChw2oZ3gnhkQ9GtwMCofad2TQQ/R7OoqpyXgwZxeVU+L8qR6OcX0dqCh6IZb9teOGr9HZV+Y8DcpVPfmGCjLyOmF2noLDPYV2uvQ4np8Se5kcwrpQyHpPod8T4Q/4wYdM6bxfW+N67xvEVpFgi27Tk+uMxHvyKUi7W0Tgc7CLhTxK9/1ZHTC7T0OWfa2cAAGYoQFH23QJpH5C1lVlgfXxMhFz6RT4brPEdZ4jrO1Iex+pjENKSZdMpffwplmrvV51Kr7zAEgno/GGvkhA50s4A2x3gGqb2CGjSQ4c+Tp9HryoYOG6VjgvjWeg0IYrbRLTosH8qFxiMcOlhcPom6XZA00MpzKDnadEgP6Y/QDJJXgNokqxR+oHKIwVxZBoJdfbpH6Oz7pdIpFtMlSbiKXeGuNtq3X3CpKKwvZyBlj5RZCRJsZ0m7lNu+DMC+OkiqkiFmbxkPuYqIUKnurqaZxA1VIFQfrfG9d43rvG8bI9JZa4+cppsBvu5WFnNbNBPn1Gf0r/xxHwAz+hrmX+C0gIgZb7T0OWrXnBFCHuwOZsduwMt7DCXn050VwF3+zKmGiKEl9fV6fRN1HVpnfX0hxAbPY2JLGSivNJNziIN1nROggY+O5sh6cW4aLt8aYXeGMjFqHsNQ2yyuJX1+ZbORcdER7ikqAjJ7E3erAwGRtkiO+ey813Hmu4812FKgz/Lr2gBVWOkRwrGYLudSaAR2GHgQSJxCCRSajrVxwyRwQpX9wG3MFmersyHC3LMrY3K6G40vz1dO5AFB7t7znKmeRbmEzI5Sy/NqjpJDNMpCQS3rvAUUBvf1MctcgNBKMsGmVVk5ewTNLRZJb5SdLmHfP9QKwMt93sp1/K6cd5g8gq6iXRHk0Nd0WEKLDONR+gcMM8XAarHyyTybmrGP3Oh0SCkRX5Dk2PmmmlaaHMn83GW+ElLAVfXcd/JB3FWWua7DN/mwaoysnr9mIi2f+RAy33hrhkXUEbqQtuKL4a2lccMkH/76/GcnpjK+qqK5BWfo0Cu3w+yR0wu8NccMkJI0VPwG3lYlvgZY++BvYnz7JHTCzNmWfMkrEt8DLfeGuOOSrTC7w1xwyR0wu8NccMkdMLvDXHDJHTC7w1xwyR0wu8NccMkdMLvDXHDJHTC7w1xwyR0wu8NccMkdMLvDXGwAA/v9LQGQFnwyXOP31aoBvvX8D7qGjdgBn0KXSGO2eGnxGuD7AXruefY0QUNiZdPQ8ADmSYrh+lJW6JApyfE1eje1Fz/YyEsEp99Q/hXnYf6ekTbuxwFtyCLD42RhuQtEN5ugkuAZThpmnlbCIdoLvnke3TovR1q6mifQaXygnSUmVRr1w5VKQu1i0Tv/SdeL8/w2KvESREVg5c4YE7a59S5CQiJzwVPow53PRYhx0u3uImH9Np07swXuMzD81RpQn6mBK40aloUeUDRF/LctPkdBADjLB6ac0iYCEAkk0rrDMCpsvJrb289kvnZCvCJ42aeFiZGBLXPJp6jOKHkACaSTZWSzX1u//twh/hKStk5TlDsmu8AXGiA7PwZsD5X0HQ83U4U6zVBK9d+yMhwV10h7ysrU8GsDkOzod+XOhOfScqngmbaQtd6XiwqWYGO9qtH3/yZrBPgduQYWiDo6Vcp1c0yKiz34o/tHviPAmn7BsIBAAjLmMYi535fNDJR/p0McBzN2Gb4gKYOz5ELgePH7eA5HYTy9d6Uf7mK5LR7sFqzPYd+lUryOPsPHj9tUtIEEM0diTHFzNrAilOsgE0MxOnPuCK3WjRoenKzBmAl4WrfowpVAdUqSVkpqBIoSAe5GI/Bi0IYIzNbYXlnP+iyczT+vrYUVsiJ8USHtWrKNOVG1AW8PGCTKw3Uxc7s7XqG/jgKkCoRy9F300aAcfkTdRv4q8hGYffK/TTKm+YW+/EcAnSC0ehR7Pf+S81w+YOqQnMyUllsDx1+4Wjj6vm91sggrBrUW849VxQkatOCu89lXJUUer1/T/IOJIQpCijIunz0pT5XRDsk8I1ROjec1GS56Dq75g3gNKEHD5lIgTT8FKIKFgWnb5QyERhqZTd66hidTOcng2WBVSBYx4F4PcIA1ZCGoaVTGurtdzvqneOhViHHN+GmYVHcybSHSvMMuD3IjADOtm2f4HQCTq32R3rVTBcYACAXvZrazaw6KrpUyReHVD8mmtA/FQpiyLN+Jm8mnduoRAAk6eHK/O/RBkhGnf63xJgunvkbv7gY57mLNj3/ANxc0lfR1PNUYxaNtWGuXlToPpIBxwEKboaela8Ro7VZu4Od3VgnM1Fb8bi3X01OhpvCa5hg8d8YT91D04QL8FzO1aRqL0IikKOXE4Wic9PXGLCHRY0aJwm07wS1MR2RJuqqwIVuxcWJSX4BqKcw9CNzEvbX7gp9eF4XfNZUaOcJnvnvAyJd9KEVFW5tKk9vUuuqABEiKyhLeGaiir5CL/7wplXHcvDse/SqADoAbLiE4S/4sr9/r40MjoXvYj5S9bxHUao/6Tg8l7pU84+WLlbDVy9QQRel+UUPtirDVQiOmOSaKOFpcjDUIbEDA3iL5s7TVweR8mSpQNV3+atzuZ7tZDxa/GaizMZnzg4OwXq5rpHhhqt1q1NCmRZ5eMPY08Ep9Y6WWpY7IP+438yN7rZWdrfzQ5qXo4yZexolijPID05DBnNgti9jYVtRzzK+3G8XSdJzxNWKH5x4dUGNyw047Swn/qUge5k8CFmUku9LyU5a6TVW47DLZ3wjwSoeDmXrx1zswV+UvqpmN9PBpLJ0yjwsxGJQdCPkX+9ccnxiHri+qzULRj38r4pVLbvuS54oc3If8FD3oCoayIMYnHjIVPtQYnMsb2YRfHAcQ1eCUQu8Jof3BpVbDzhL2+tRdMMjRQTJc4FjL6wD5NNuqKWfUJinUV6SsBI1wMIN0ctunGLhq63xnpM8ACj+42yp5n6sEnboyC9naDEeT7T1NxweZhZo01Yx7UNXypVkzXSm3ryKPTWhFdAU13AWVz6mwJ5NeudZGitQvsxHIzTl5NYrbMqdSnSNIq7H9Tsl7IMV+DaJwjVfCSaYUhg54Mvhfj/zFa7wxA1AIf5eO1Jg13UXXWpIyeUY2FuVjKySP6Xoff00ESxZwdYkZsPGNpG4cSrZvLQz48v4bzqbMFzyHPdyjT1+MvMqk48jUoS3fAM7gVgE+97ts4cIUkKuHX4ZJJu1cu4mufUJyczwBydJoi7wdqkXLcbVXlXIcNdKGiCekbr4c2ubBnfzEM/CQGvuBgvZH3vBNFF+c0Rfo/iRGuvzq4b2oqONeIT0JoXgC2cIsvlEzM+SJLo+3nccaAbxOoCPJnQ356y+nTqeghb/3wX97+be4uXaS9IvgVZgSuUxNnqf04/QvP9x/C/k5BziLKw8V7BFfULw5CbpN97bY5fWabTKpt7ZIM6lNniWaEe722x2ksJ/vIFKJ9CbulLMsix3xQvKwAGXdKgzCeyo4zJ1/aiE9/h/3cl7WN41SuD/wXr5HaJ26ME2EFeteTV7YX/sPkbZzRoOBWjqSqN65l3YASPtfWXR6aDun+7gZYA0Tvf4GCO6snLFHV+Y3qoh3VMtPOAtFSKgaNaxWc8vXiji+ofYVhUrdJNLcfdKKEoFVxGZTa2lMbnhy2VxvFokr8Mis7WBUOBgy4/Kw9mOrhxQiUC/4YqQvUX8jMj3d8qjy2X5FB/lNCkpgAVWwV1/65Csy14UkfSSrEJjnG1/xFFW0JM+z1GcQxHR2FjfLpe/n2kDJrylXQaYR98UvZ8Y37/fawGPXUz43pRleV5hDEFINd0Pd3rcuU/25QBzT4Pu5IXky94t86zmcqZWuodsN1LUXYv1yCSMi3DwhdzLg8+Lwgx8o3KaBSd7rHSxdDO7mmxTUlKTjElyZWHc+AWXW31Ea44GWNUPHSBytLXlSYSYxmthYHHyBy6OtvWMCi5MFP3IqtEtUhHZmFKTrUz04Z03ahr/6eAfko5l4AMw4NR3pDQ27R0ibP1BcTRxwHXqvEI+KwsljcUCRVtESu13wtI0wFuUMGo/V3KNVlf1Muo9PyfwEjilkoSuzfJCpZ+ktQM2hbJBGEkr4EOHG5Rlqj8Pch3k81xmUGzfAiagPP7+/wMWsEjYYqkYIHfGkgsSS5WxDq1euvAyBMNzU/ynUEl/ue3mHFawoxBs2BPBN85PVDI3HS499VgZZ4tO4o7mcnCa4/uxVD+NCkl2L1SmX2ld5mFO7ud9fZeFpnmKJDnDeFn/oj9DPjT51as3K7rsRWcQD9opl9/sRuidxqUNbeWdDyG4aM9zq4RzxeVHijFgovY9eSVSvMnEHobPZ2slHdISUz6vjOZ3ryAOeJDA3eKiZxgE2lxLb18VHM8fcpAaOfuJrFmNJlnPMD5lFlUBEH+kr7oE8HmvoKsW3yWLcBDQs9cBr9e2kayGuadQd9FvAIrSuCnaRHC+qz9EEZBC9+fRq9CPnWycJHCG23XT67QbEV208QzTJhfMVV4mpISg0m3g3SHc97jF9b6X53R0xK/cHdwHtSsKSMfDqtF0fBsGOy4qVIsus/hBpTkQBEXq0sSmt+RPu9XRndBDhar5Vp838n6Me93QDs4Wm89kMmd4HxRImkecURPpewj1Gef+dQH8mT4JiylsjOSfx2cJjLBNs+mqkeIDenr8s+kyqyIxmp3vdGG3w9WBdVo84b48glGlmW99L9J7ZhEn8jBKlnSaQ2w2m1O5ZeW/y+EqUc5ZpZY3jt+bpM825aOuB7ADEsURe1zgz8gW6GaLpdLRZby0WccSS/5qS3u8bV3TH0sjvmGCVLOZs2/IRyBtTDGBtHOVz1KTJ39i7hUch4Bb4++uCL8i4++uCL8gj5SsumDo1RovjkYNPdbg9bInjPquj1tSSPMHAj+NzpguMiv0lHeuqVUxntfmL0V++FczXNl1RxlnJckekNZr61kQLFFoM+nHMH6Z9aR2nynwn/XvPky70H2uzemlp1N47jM43ibfLe7jthwJ2Ve9YucG/kibDnYZtiPQiZ7o/FzKcHcSlghleFcWGb0Q1dvZDPcN3KO+CY+X2S8TW/k6sjn3uBwNRUAn5Z8g3lDjk64Ntw/I6//2HaNm9EVP1/Zoyy3pOPHn3Y2mkr0BSc2sSGhrukqRfRBkvkTRvlIy/j/ZXexm41miXW44W5T55W6CMYHrGFhQvF7wHFzXXwW5i5DSXkL9XH0PAb8CiESsCSwdheGPi5Mb1vuSlauPkKJaSNi/jmQNLOd/rEztTPBNs+PEq792nL/Bhuc4Hi+duaIrVc+Jnx/aGyADH99kACQcfyef8RanHi5INOA4FbXHxydNUKyuPNms+6Y/4bB1mBoVB8HC8nqfQjFbHLDntz6VbZzac80poJLrpSu6SpkrnSuOsmzRu5njWx7yGAWWxUJoQI5jy7Pbspl1vyXTenhYonKIcsvpbQ0YU/lxokzQfrBuXEXzLRqNLo/d0dgyviLegCe46Hfz/hu4lAMulSGi3pWTMamsHnbbg6paTsKaj5gg791wE9heX/HCMz2sCUUKuC5ALfC/HXlozZ3vjZqEMCuOFLsUhwueGkEYztvc1Jf944IDkMU4eo7qv/q00fdPY5NdTYMs7h7GUoQCmCtt0G8rQJWf7ubyLGEycqZcO5zYsKeIDxoaA5kM+NGHbklUCjySElt1Kvae31qYqerZ7lSG8/vesFFtIIsfwBfaQg2MaPj/c/lZzeIPIn+Yj+JM1vuHaJJKCGd0eo2D7wEaAKMdOGv6IUC2LS+RjgcvQte28yeIX7GiRBg6w9wsKPwYFFffB+S5x44eX1ENiirHBqTjdAWacSr18Ur+wptWL3K19K1xijN9izU3yIntZQZYyXZl0SPJdQcw2YmaXJFaDR23Q3x0zN6QT93phlNqMyX9XE9c98lUGUq5UaXoi3q/fElfiaGOHfZBDMICfJ16DCg9233gQW1f7MFthGdeNnlg1AGNDdgmgXv8IbWq1tw6i/e47x+7t7ulyMY2weVNrr9udHDhGUqrAv//nUwac5eBAH17pzCcNvCQ0qW3+Fdl9m++IkDK10m8KdEmxWifd8hXPG4F0zKPh8RX4KCMrDrgg1qz4mVlZbDcS1jWIaejpneS6G/+Mlmpn0yxJw0XBxAmLbZMjH06Ut/krrocdSfktGt36h+ngaNh2oPJpJ0KMa5Cipu4Stp+q5JPAzlSi3FtkKZW4YfKrKpc0pv80h5lw9rnAN00tJL5pmZofJHYEOCkSYhR7TKmN26rfXAubQOB7uWUvSwUEAPSAFkF7kCjg1K8gC4GGVsLngg+2rMm1dgWTxQ8za/uh5a4SIydhhtW8JVXPi12+3acbpbHbiPhqQySn2+I56T1PL8eNTA82hyvsl/Kkwb6Tuwll/1bgy9jG32bezS5+581OQObU6KuXo/RG/5iIUID5pCqBPrIgFyNhEdUSodv/ANmE+d6fBK8q4C+o9cDht+5kH3RwcxmbFiu3HfdBZXTaKch5bCec5GunIBQLLq7NTlahLkOw5S0w2L6MqXmF0qaVN5Zcfxx5PzMe/2eai9yirerlhsiMQWLqPfgzV5jvH8TF+TC6Yb1x7HYxWBQm1I8xR9DNnA2ng5pg/9gJ4KjjTW70DIj8fxeT5tjqyO3wYAQ7MsWkJSAR0X7dXlIbZRhk4tGTq213ZYqNj5ohsQFUEYEhMvog5vph61y45f+T1QxdK+CZDpEEXC7iiaNlqzOIj3EQu0AA4spUk4dWrn2yOPbHw7JX0gxfQn8am/u0Q/lDiwyTyUpZ03kA8MoVg2QL4ko/vYY49Z9xV0XtZmVBTKQrM+eUqcJFt/PBj/IX8REisu+Xr1A+s2a+OunvT/73GZn08tQ3cLnWa3oY+vpD3+UjoX3eZgct9K4qQEjjqNVRVIg4U9XYPqVJU4Y75ZPvyryOvllWpaiP8ufmADpsMknXaPZduY9aoTdDA6HUbBUT6q+mnYipBRwLgMMgdgRjuICv5ToIbnuZCVa1Xz7vDNDRZQq3rjBNmvPx1iFsvBf5IQl0/x3FNzIsC3+h72/D+PM2osOr0gZmHHxW/89Q6ggbZGZaoXFaWafO4+zGkzP/tXFmzfNDkCknqYEJ2D/AUeCr+W3NaKaf9KzrXqUuy3U0MRlF7TIgKkffEaJZSIQDEY9Ydbs4paayJXfvJoqPrI4Oth59TLQrITpg9Vo6U24lrmvMw0lem6T5VC8Lo0h7EdbKoTnA1HD7ZqK37z2yr5a0GjiqdCbxBud+b104zkGtA8yL9E8QszzjgZyYqj+d8hJzZY5vJvu90w61FPLKDs2jbTaFlZiZwNlMSGMDdmcdRP5GJmPmXGm0TCHj4SGkhk9N9bJ6dUZyf42pekZlW57eA/+yh9A9di+7gyxaVzTm5kjqzidKlN/5hQM+tZ6U+LeVMb61DUqxxBFcbCEIc+Ec3cjcBerWH8TRWp4NgDbYTUitZ0NAU+HqHWCdh3r1KhI9cO/V2kMoj+LfuQ85by8LncWMO4gacjhccl8UEhV4SFZhpbT6ro8PrSjyHV54FUXoRj1as1wrPRZLRhTaFjmupyYlV98KWYP90mMJzzIFjbxrix99v9gC+CY9XkUTGV9GEzyicuQ0rHjepG4EbBmcV2pcLscHiXTmBNbDYbbQb8zMtQHbpaTIlbJv/BbTpUZZZe3ATJMlN3ReB8LIjzD4LSYJwp8BL2HouR0egKIkG7G+9lqWTI39LJEpu8pUJ6r6wvXHXo2hpmwIScsJ2uUC3StLF+JwgIp9Prscm6nwbD5m3Fy/vParKq1gmVyn+lUCALjIzSq2NHbJx/iOlqSXccQ6CYAtKwXi4gE4ncNVm6YomZTjEbMrFveb85oAbJggYQcRLNz+J7VRXoQPIOr/bV+v30OThJNliOagVu/FXeTRectNEF68V7VpMwH4QKgjl5blNcDk7ew5w5LIaE12fEvCZi7kAtQ3aqUMQ1JuN0lYyrbiDtMBpCCq1sqbpK1utBbMMC/F9NgfnnfEO1BpLlEFB+jN40eCLoUpRVAWqP7rnz5FhOOg9SVLTK0ikc7mbX8Bu/SsZRsiuco/DQ2taDSjYm18yVhKaKUDf/2EISWdJ8JeI91B6FnKqRnCA8Bv7a/68JJsZ9yNMVcAl0lOBOuOSA2jfQcHkjDOCK+aJDM9354v94bQhlYbFATES0Q8yIf2x7fcoDbaOx/zyrOu0cZJvMw5FTPXQBKlDH9AuBGy1VJ05771JvgE/uQNLg3mzhD75LgzyxlD1y5spqcIKB5xGJtqOKrOSWsZCorE9brS6e2lBRhaaBGfCnKrJ6zlEv1Aa/f6I3L7dpYrvhuSbu/vWVXY3QeUcnHAzevSD5DDgT8RbdxDDlHWF3QU+jQ3ZeqgNjU4WW4b1IW47n/Pb7wOR7k6/Dhx1EjyNWFChuAJK0sbFj/tGc6CWjnFJqObRoGRUFvfYk2Gwj499KcOMciRCvfQl9gMgaqW8SWl0sezbUbD/f7Si9NulTyjpK3bdvj/6T4SlPR5/uZNxGHLc2gTaA+T0ep76Iou6do8b4mkAUeYl+PS15TBLJxk+9UxUvs+zycqYNADn7RJbnqmapqFzBaB1O37RFsseun8Ai7LnihE304SjhtrSMXuqWpseM/XCipp0WV5z/7bFtmzu83a0AVhAt0S29V8dBcMyB4hG3jd/P6x4hpjhMGsgZI+S4MWtroZmvJgj6S3yy0NCU9cz+f2YfW5tTJIE3CAa+YD8Zc2f0EA+9WT5a/A3jgdfAFuUAsRQwfD3KFaDnLrwIO4x6re2HNXUO7w3KSxNPEd6H8RkLKvo906gS0wG108gVC4T1P8Re9uybG3QDFSw+Mj7F1im/sTFDM3hekPoCrcmbWLMqhNgZYS5gM4myCblIE7qtl5TD7zNhIzWBulXmvLpSEH3oV5Vsnt9ZaHTX7KJwlPtdFC+urETkae4kIzhdbZ34sTkKplXpc+fKazz7Op3RzDxY3c5sp2sQ21321VKMigZZTtzPIRTe8jBAGWwKnkRrSQOUbS/HZ4KiG8fmT4sIlbQzkgOgD8zTaYxBMxQnpaZRgK9kgitlr3kDYoAfgQNF2wFrfLpJi+8yEc3A45Bpkc7oeUx7U8WcoJZtbsBlMI6e66zQGkZm7vUQ779n9Hg128q96Fi0OnHYJ2slCwAfGDRilbk1ThVmhiUp1Obi3A7hModv5k46ZMXpLqe+0y1Osc1g4tB9sQ2e79iTJb8MVFzGD1oa91Hnkxo+TVe6o8ZgPJJtCnzFr1RSXmqN3WztikmWd/8QTXxSTI6JmS2kNnuOkp/QkbHziVPAWvt1jJNfOMQBymKtNX2/F6j0ysNEIEwo462c7ceocMaa3E/XxYxL37Zng9XN00Hg5fcoQ/6E1b1zdNQviu4k8TEKojwb2VZrLkQrsJI81EEc2CYG4U2nyaWSC9IHMesKQ+5+CxziMG6JGyJF3zOSEubwGZGEOx1oMh7NfqSwgDQuRdtMWBIBPicoHxa7fbBGZfhQavzEoEETfeZKxxB6NN9J94bilQt9dmvvXAdLO0niONvTOpHVtkUp5jpTYnEAmJBjKSH7OgrVmDEHXTz6rR73bt+Rm2+Ff+WCvTUszrId7o0MTmKYjSwo0YoX1rlU4ptWtuI7MJWs59ROccUwVajLz8DH9YEx01wDwF9p5z3vpKXiwyM7c07xQcCwagXgoHLuNSoRfH71b4hUVnzXeDaWBtKc9fCayB+iepLi1PODOIDqt9rNmNj3xHEsINiz/tZ3NoeJgDJWbi3yX9RYcvD/VhRtG7jx44Yj78hvoY8o3T+DJd/4jZqZAA6IxYFvGWmkma51hfaXmWXmgAAvgBX0VAdp4AjdQnChRgrOA1vkGYDgR/jU7FuwiIv9hsNquyVEkpM4p1lZUybzAZFP4buql4s9lOfsiXwpWPBFRrSV65ASrJLjeFPKbxfhu6qXhk59MajwPFNKC0XnQ9n1qSn0IP+NjSz8ZExeec5QTNuB7DJgrf1xP+g7t3PNiQ4gI3etCGMnk0FEvxWAre5Y4ja7u25BivYNlr3HLZ3/0mA2f3JUOClg7/5vAIhX+kgjl73DAOordeiHg+Se0kJDUsBNhV/yZZY4f8DbEbShtJ6zjgya/znewOxu40ljEo1rAkvERIeipchgDC33+K/1cEI8RlrCm2Txr7Z7N9OtAJ+j7GVviNLrL9lX2OUPYktIDh37btFfhO9hhtaucrPcro0HTFZCDhAeERc+cgxyXJ2rhWSf3J+/GFmd/QHz561uvaRJjN1vpw/dynlXsbVqfrOQQxPMpEdFkKZYy59sLWjEUY8gIZje35cv6tIy1M8hnwE9Y+2asGVAeRgzW9u0YvJSbslFM3NbkVLLvftbUZN9iv3S/RkSlft6e9le8IOnM9S8wKv3yy3PiPrDz8RsosEPfUnLbX1arR+HvtUIDJuKftPwY5V+psN4srQybzM2hhUF9OX/movrOuL9Chb2AdlUVSwi76fTqklMtoBkmcEJXr3TQk2qx/Hlv5K6OMOFT2ilFES3CICXhG6YvmKfLL6xykF0hKng+JPctUEEe1s+VH11HyukdoB5LnFYn3kVRjtXCLUMW9JKel6eovS/cN3e3izsi24FFk9IACt47hdQmgY7qCllXYATdAGzBDzygQm26VLrSJUsqlNiDnVhDHwm0e67P0wZrfZTW3C3I/TcRoIMRiEmv5fhdSgoO410AUDInON4ImyjQz5rd7QuYuVYhjh65cUQURryJpW5XDqUA+EA+aUAcyPKj/YBuddfQxz5VYAABKOP6e9a/6NrZnwxX1SXIC79D5lq+XrpId0R7+g/qmyC/c2lKt6cfivu1IXkHZCAjusX0PHyF0szB0dPXlPQ+LlAAF7GiJpEqx9o2yNFkLPS9x+8K4A65xwSzmidt/JJJZ+ljgg6wzdWZONBKyYAjI4WN8F3xt5EvJroVmsglks+Cb+PRQa/ukE3STSe86P8XY8Xaw/1c09AkRX+FeUxRRZbwADQMW70wlnv/FVwzoEBuChYG5xPFYhyfElATpdPc4aPzH8balqdEPpuoTQAICTdF4HwW2Ts/ypQ80SZZBa7PX801TuGh1Ud4vSE8BOP82fSOADrAP3O9Mf7sB1jdaYfAq2agjGRd9pQiEhKHPXAAAAAAAAAAAAAAAAAAAAAAAARVhJRroAAABFeGlmAABJSSoACAAAAAYAEgEDAAEAAAABAAAAGgEFAAEAAABWAAAAGwEFAAEAAABeAAAAKAEDAAEAAAACAAAAEwIDAAEAAAABAAAAaYcEAAEAAABmAAAAAAAAAEgAAAABAAAASAAAAAEAAAAGAACQBwAEAAAAMDIxMAGRBwAEAAAAAQIDAACgBwAEAAAAMDEwMAGgAwABAAAA//8AAAKgBAABAAAAowIAAAOgBAABAAAA3gAAAAAAAAA=\"></p> </center>"
   ]
  },
  {
   "attachments": {},
   "cell_type": "markdown",
   "metadata": {},
   "source": [
    "Here, `L` is the low-rank component, and `S` is the sparse component.\n",
    "\n",
    "RobustPCA solves the following optimization problem to find `L` and `S`:\n",
    "\n",
    "$$\n",
    "    minimize \\text{  } ||L||_{*} + \\lambda ||S||_{1}\n",
    "$$\n",
    "\n",
    "$$\n",
    "    \\text{subject to  } X = L + S\n",
    "$$"
   ]
  },
  {
   "attachments": {},
   "cell_type": "markdown",
   "metadata": {},
   "source": [
    "Here, $||L||_*$ represents the nuclear norm of L (i.e., the sum of its singular values), $||S||_1$ represents the L1 norm of `S` (i.e., the sum of the absolute values of its elements), and `λ` is a regularization parameter that balances the trade-off between the low-rank and sparse components."
   ]
  },
  {
   "attachments": {},
   "cell_type": "markdown",
   "metadata": {},
   "source": [
    "**1. Advantages of RobustPCA**\n",
    "\n",
    "RobustPCA offers several advantages over classical PCA and other time series decomposition techniques:\n",
    "\n",
    "- Robustness to outliers: By explicitly modeling the sparse component, RobustPCA can effectively handle outliers and noise, leading to more accurate trend estimation and anomaly detection.\n",
    "- Applicability to high-dimensional data: RobustPCA can efficiently process high-dimensional time series data, making it suitable for applications in finance, economics, and other domains where large datasets are common.\n",
    "- Simultaneous trend estimation and anomaly detection: The low-rank and sparse components obtained through RobustPCA can be used for both time series forecasting and anomaly detection, providing a unified approach to these tasks.\n"
   ]
  },
  {
   "attachments": {},
   "cell_type": "markdown",
   "metadata": {},
   "source": [
    "**Implementing RobustPCA**\n",
    "\n",
    "RobustPCA can be implemented using various optimization algorithms, such as the Alternating Direction Method of Multipliers (ADMM), Principal Component Pursuit (PCP), and Fast RobustPCA. In Python, the `robust_pca` package provides an easy-to-use implementation of RobustPCA based on the ADMM algorithm."
   ]
  },
  {
   "attachments": {},
   "cell_type": "markdown",
   "metadata": {},
   "source": [
    "Here’s an example of using the `robust_pca` package to decompose a time series matrix `X`:"
   ]
  },
  {
   "cell_type": "code",
   "execution_count": 17,
   "metadata": {},
   "outputs": [
    {
     "data": {
      "text/html": [
       "<style>#sk-container-id-4 {color: black;background-color: white;}#sk-container-id-4 pre{padding: 0;}#sk-container-id-4 div.sk-toggleable {background-color: white;}#sk-container-id-4 label.sk-toggleable__label {cursor: pointer;display: block;width: 100%;margin-bottom: 0;padding: 0.3em;box-sizing: border-box;text-align: center;}#sk-container-id-4 label.sk-toggleable__label-arrow:before {content: \"▸\";float: left;margin-right: 0.25em;color: #696969;}#sk-container-id-4 label.sk-toggleable__label-arrow:hover:before {color: black;}#sk-container-id-4 div.sk-estimator:hover label.sk-toggleable__label-arrow:before {color: black;}#sk-container-id-4 div.sk-toggleable__content {max-height: 0;max-width: 0;overflow: hidden;text-align: left;background-color: #f0f8ff;}#sk-container-id-4 div.sk-toggleable__content pre {margin: 0.2em;color: black;border-radius: 0.25em;background-color: #f0f8ff;}#sk-container-id-4 input.sk-toggleable__control:checked~div.sk-toggleable__content {max-height: 200px;max-width: 100%;overflow: auto;}#sk-container-id-4 input.sk-toggleable__control:checked~label.sk-toggleable__label-arrow:before {content: \"▾\";}#sk-container-id-4 div.sk-estimator input.sk-toggleable__control:checked~label.sk-toggleable__label {background-color: #d4ebff;}#sk-container-id-4 div.sk-label input.sk-toggleable__control:checked~label.sk-toggleable__label {background-color: #d4ebff;}#sk-container-id-4 input.sk-hidden--visually {border: 0;clip: rect(1px 1px 1px 1px);clip: rect(1px, 1px, 1px, 1px);height: 1px;margin: -1px;overflow: hidden;padding: 0;position: absolute;width: 1px;}#sk-container-id-4 div.sk-estimator {font-family: monospace;background-color: #f0f8ff;border: 1px dotted black;border-radius: 0.25em;box-sizing: border-box;margin-bottom: 0.5em;}#sk-container-id-4 div.sk-estimator:hover {background-color: #d4ebff;}#sk-container-id-4 div.sk-parallel-item::after {content: \"\";width: 100%;border-bottom: 1px solid gray;flex-grow: 1;}#sk-container-id-4 div.sk-label:hover label.sk-toggleable__label {background-color: #d4ebff;}#sk-container-id-4 div.sk-serial::before {content: \"\";position: absolute;border-left: 1px solid gray;box-sizing: border-box;top: 0;bottom: 0;left: 50%;z-index: 0;}#sk-container-id-4 div.sk-serial {display: flex;flex-direction: column;align-items: center;background-color: white;padding-right: 0.2em;padding-left: 0.2em;position: relative;}#sk-container-id-4 div.sk-item {position: relative;z-index: 1;}#sk-container-id-4 div.sk-parallel {display: flex;align-items: stretch;justify-content: center;background-color: white;position: relative;}#sk-container-id-4 div.sk-item::before, #sk-container-id-4 div.sk-parallel-item::before {content: \"\";position: absolute;border-left: 1px solid gray;box-sizing: border-box;top: 0;bottom: 0;left: 50%;z-index: -1;}#sk-container-id-4 div.sk-parallel-item {display: flex;flex-direction: column;z-index: 1;position: relative;background-color: white;}#sk-container-id-4 div.sk-parallel-item:first-child::after {align-self: flex-end;width: 50%;}#sk-container-id-4 div.sk-parallel-item:last-child::after {align-self: flex-start;width: 50%;}#sk-container-id-4 div.sk-parallel-item:only-child::after {width: 0;}#sk-container-id-4 div.sk-dashed-wrapped {border: 1px dashed gray;margin: 0 0.4em 0.5em 0.4em;box-sizing: border-box;padding-bottom: 0.4em;background-color: white;}#sk-container-id-4 div.sk-label label {font-family: monospace;font-weight: bold;display: inline-block;line-height: 1.2em;}#sk-container-id-4 div.sk-label-container {text-align: center;}#sk-container-id-4 div.sk-container {/* jupyter's `normalize.less` sets `[hidden] { display: none; }` but bootstrap.min.css set `[hidden] { display: none !important; }` so we also need the `!important` here to be able to override the default hidden behavior on the sphinx rendered scikit-learn.org. See: https://github.com/scikit-learn/scikit-learn/issues/21755 */display: inline-block !important;position: relative;}#sk-container-id-4 div.sk-text-repr-fallback {display: none;}</style><div id=\"sk-container-id-4\" class=\"sk-top-container\"><div class=\"sk-text-repr-fallback\"><pre>RobustPCA(n_components=3)</pre><b>In a Jupyter environment, please rerun this cell to show the HTML representation or trust the notebook. <br />On GitHub, the HTML representation is unable to render, please try loading this page with nbviewer.org.</b></div><div class=\"sk-container\" hidden><div class=\"sk-item\"><div class=\"sk-estimator sk-toggleable\"><input class=\"sk-toggleable__control sk-hidden--visually\" id=\"sk-estimator-id-4\" type=\"checkbox\" checked><label for=\"sk-estimator-id-4\" class=\"sk-toggleable__label sk-toggleable__label-arrow\">RobustPCA</label><div class=\"sk-toggleable__content\"><pre>RobustPCA(n_components=3)</pre></div></div></div></div></div>"
      ],
      "text/plain": [
       "RobustPCA(n_components=3)"
      ]
     },
     "execution_count": 17,
     "metadata": {},
     "output_type": "execute_result"
    }
   ],
   "source": [
    "import numpy as np\n",
    "from robust_pca import RobustPCA\n",
    "\n",
    "# Create a sample time sereis matrix X\n",
    "np.random.seed(42)\n",
    "X = np.random.randn(100, 10)\n",
    "\n",
    "# Perform RobustPCA decomposition\n",
    "rpca = RobustPCA(n_components = 3)\n",
    "rpca.fit(X)"
   ]
  },
  {
   "attachments": {},
   "cell_type": "markdown",
   "metadata": {},
   "source": [
    "**Visualizing RobustPCA Results**\n",
    "\n",
    "To gain a better understanding of the RobustPCA decomposition, we can visualize the original time series matrix X, the low-rank component L, and the sparse component S. This visualization can help us assess the effectiveness of RobustPCA in separating the underlying trends from the outliers and noise.\n",
    "\n",
    "In the example above, we can see that the low-rank component L captures the smooth trend, while the sparse component S isolates the outliers and noise."
   ]
  },
  {
   "attachments": {},
   "cell_type": "markdown",
   "metadata": {},
   "source": [
    "**Applications of RobustPCA**\n",
    "\n",
    "RobustPCA can be applied to a wide range of time series forecasting and anomaly detection tasks, including:\n",
    "\n",
    "- **Financial market analysis**: RobustPCA can be used to analyze high-dimensional financial time series data, such as stock prices, trading volumes, and economic indicators. By decomposing the data into low-rank and sparse components, we can identify trends and anomalies, informing investment decisions and risk management strategies.\n",
    "- **Energy demand forecasting**: RobustPCA can help forecast energy demand by capturing the underlying trends and seasonality in the data while accounting for outliers caused by extreme weather events or equipment failures.\n",
    "- **Sensor data analysis**: In industrial applications, RobustPCA can be used to analyze sensor data, detecting anomalies that may indicate equipment malfunctions or other issues."
   ]
  },
  {
   "attachments": {},
   "cell_type": "markdown",
   "metadata": {},
   "source": [
    "### **Conclusion**\n",
    "Robust Principal Component Analysis (RobustPCA) is a powerful technique for decomposing a time series matrix into a low-rank component and a sparse component. This decomposition allows for more accurate trend estimation and anomaly detection in the presence of noise and outliers. By understanding the mathematical foundations of RobustPCA, implementing it using available tools, and visualizing its results, we can gain valuable insights into time series data and make more informed decisions in various domains."
   ]
  },
  {
   "attachments": {},
   "cell_type": "markdown",
   "metadata": {},
   "source": []
  }
 ],
 "metadata": {
  "kernelspec": {
   "display_name": "Robust_OD_port_infrastructure",
   "language": "python",
   "name": "python3"
  },
  "language_info": {
   "codemirror_mode": {
    "name": "ipython",
    "version": 3
   },
   "file_extension": ".py",
   "mimetype": "text/x-python",
   "name": "python",
   "nbconvert_exporter": "python",
   "pygments_lexer": "ipython3",
   "version": "3.8.16"
  },
  "orig_nbformat": 4
 },
 "nbformat": 4,
 "nbformat_minor": 2
}
