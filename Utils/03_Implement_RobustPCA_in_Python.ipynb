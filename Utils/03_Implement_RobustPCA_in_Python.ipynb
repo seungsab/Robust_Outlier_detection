{
 "cells": [
  {
   "attachments": {},
   "cell_type": "markdown",
   "metadata": {},
   "source": [
    "## [**Implementing Robust PCA in Python**](https://www.dorukhanserg.in/post/implementing-rpca/)"
   ]
  },
  {
   "attachments": {},
   "cell_type": "markdown",
   "metadata": {},
   "source": [
    "In a previous post, I introduce robust PCA, the math behind and an example where I put the model in action. This post I will share my Python implementation of robust PCA. If you don’t have any background in convex optimization, some of the discussions here might be boring or irrelevant. If you really just need an implementation of robust PCA, skip the background section and you’ll find the code below."
   ]
  },
  {
   "attachments": {},
   "cell_type": "markdown",
   "metadata": {},
   "source": [
    "### **First Some Background**\n",
    "#### **Alternating Direction Method of Multipliers**\n",
    "Say you have a convex optimization problem that looks like this:"
   ]
  },
  {
   "attachments": {},
   "cell_type": "markdown",
   "metadata": {},
   "source": [
    "\\begin{aligned}\n",
    "\n",
    "& \\min_{X, Z} & & f(X) + g(Z) \\\\\\ & \\text{subject to} & & AX + BZ = C \\\n",
    "\n",
    "\\end{aligned}"
   ]
  },
  {
   "attachments": {},
   "cell_type": "markdown",
   "metadata": {},
   "source": [
    "where $f$ and $g$ are convex. The augmented Lagrangian looks like this:"
   ]
  },
  {
   "attachments": {},
   "cell_type": "markdown",
   "metadata": {},
   "source": [
    "\\begin{aligned}\n",
    "\n",
    "\\mathcal{L}(X, Z, Y) = f(X) + g(Z) + \\langle Y,C-AX-BZ\\rangle + \\frac{\\mu}{2}|C-AX-BZ|_F^2\n",
    "\n",
    "\\end{aligned}"
   ]
  },
  {
   "attachments": {},
   "cell_type": "markdown",
   "metadata": {},
   "source": [
    "If you feel the need to understand how we got here, I suggest reading the second chapter of [Boyd et al’s classic report](https://stanford.edu/~boyd/papers/pdf/admm_distr_stats.pdf) on this."
   ]
  },
  {
   "attachments": {},
   "cell_type": "markdown",
   "metadata": {},
   "source": [
    "ADMM proposes an iterative approach using the Lagrangian. Say we are at iteration $k$ and we are given from previous iteration $X^k$, $Z^k$, $Y^k$. The required iterations for step $k+1$ will become:"
   ]
  },
  {
   "attachments": {},
   "cell_type": "markdown",
   "metadata": {},
   "source": [
    "\\begin{aligned}\n",
    "X^{k+1} &= \\underset{X}{\\mathrm{argmin}} \\text{ } \\mathcal{L}(X, Z^k, Y^k) \\\\\\\n",
    "\n",
    "Z^{k+1} &= \\underset{Z}{\\mathrm{argmin}} \\text{ } \\mathcal{L}(X^{k+1}, Z, Y^k) \\\\\\\n",
    "\n",
    "Y^{k+1} &= Y^k + \\mu(C-AX^{k+1}-BZ^{k+1})\n",
    "\\end{aligned}"
   ]
  },
  {
   "attachments": {},
   "cell_type": "markdown",
   "metadata": {},
   "source": [
    "If you have a closed form solution for the updates of $X^{k+1}$ and $Z^{k+1}$, you’re in good luck."
   ]
  },
  {
   "attachments": {},
   "cell_type": "markdown",
   "metadata": {},
   "source": [
    "ADMM can be thought of as a tug-of-war between optimality gap and feasibility of the primal problem. This can be used to set up a systematic way to early stop the algorithm and/or play around with $\\mu$ over iterations."
   ]
  },
  {
   "attachments": {},
   "cell_type": "markdown",
   "metadata": {},
   "source": [
    "According to Boyd et al, the primal residual and dual residuals of the problem can be quantified as $r^k = |AX^k-BZ^k-C|_F^2$ and $h^k = |\\mu_k A^\\top B(Z^k - Z^{k+1})|_F^2$, respectively. Algorithm can be terminated when both of these quantities are below a certain tolerance and advise on choosing these tolerance values also mentioned in the same report. To bias the algorithm towards reaching primal feasibility one can dial up $\\mu$ (thus increasing the penalty on primal residuals) or dial it down for speeding up closing the optimality gap. The $\\mu_k$ update then becomes"
   ]
  },
  {
   "attachments": {},
   "cell_type": "markdown",
   "metadata": {},
   "source": [
    "\\begin{aligned}\n",
    "\\mu_{k+1} = \\begin{cases}\n",
    "\\rho\\mu_k & \\text{if } r^k > \\tau s^k \\\\\\\n",
    "\\mu_k\\mathbin{/}\\rho & \\text{if } s^k > \\tau r^k \\\\\\\n",
    "\n",
    "\\mu_k & \\text{o.w.}\n",
    "\\end{cases}\n",
    "\\end{aligned}"
   ]
  },
  {
   "attachments": {},
   "cell_type": "markdown",
   "metadata": {},
   "source": [
    "This gives us an almost complete look at ADMM. Now we will see how we can write a special case of ADMM for robust PCA."
   ]
  },
  {
   "attachments": {},
   "cell_type": "markdown",
   "metadata": {},
   "source": [
    "### **Robust PCA via ADMM**"
   ]
  },
  {
   "attachments": {},
   "cell_type": "markdown",
   "metadata": {},
   "source": [
    "Let’s refresh our memories. The optimization problem for robust PCA was:"
   ]
  },
  {
   "attachments": {},
   "cell_type": "markdown",
   "metadata": {},
   "source": [
    "\\begin{aligned}\n",
    "\n",
    "& \\min_{L} & & |L|_* + \\lambda|S|_1 \\\\\\\n",
    "\n",
    "& \\text{subject to} & & L + S = M\n",
    "\\end{aligned}"
   ]
  },
  {
   "attachments": {},
   "cell_type": "markdown",
   "metadata": {},
   "source": [
    "Then we can make following analogies:"
   ]
  },
  {
   "attachments": {},
   "cell_type": "markdown",
   "metadata": {},
   "source": [
    "\\begin{aligned}\n",
    "f(L) &= |L|_* \\\\\\\n",
    "\n",
    "g(S) &= |S|_1 \\\\\\\n",
    "\n",
    "A &= I \\\\\\\n",
    "\n",
    "B &= I \\\\\\\n",
    "\n",
    "C &= M \\\\\\\n",
    "\n",
    "\\end{aligned}"
   ]
  },
  {
   "attachments": {},
   "cell_type": "markdown",
   "metadata": {},
   "source": [
    "I’m sorry about the change of notation here but I feel that’s the best way."
   ]
  },
  {
   "attachments": {},
   "cell_type": "markdown",
   "metadata": {},
   "source": [
    "What about minimization steps? I won’t go into the details of their derivation but I hope to point you in the right direction if you want to do it on your own."
   ]
  },
  {
   "attachments": {},
   "cell_type": "markdown",
   "metadata": {},
   "source": [
    "\\begin{aligned}\n",
    "L^{k+1} &= \\underset{L}{\\mathrm{argmin}} \\text{ } \\mathcal{L}(L, S^k, Y^k) \\\\\\\n",
    "\n",
    "& =|L|_* + \\langle Y^k,M-L-S\\rangle + \\frac{\\mu_k}{2}|M-L-S|_F^2 \\\\\\\n",
    "\n",
    "& \\propto (1/\\mu_k)|L|_* + |M-S^k+Y^k/\\mu^k|_F^2 \\\\\\\n",
    "\n",
    "& = \\mathcal{D}_{1\\mathbin{/}\\mu_k}(M-S^k+Y^k/\\mu^k)\n",
    "\\end{aligned}"
   ]
  },
  {
   "attachments": {},
   "cell_type": "markdown",
   "metadata": {},
   "source": [
    "where $\\mathcal{D}_{1\\mathbin{/}\\mu_k}$ is the singular value thresholding operator. Please refer to Section 2.1 of Cai et al. for detailed explanation of it.\n",
    "\n",
    "Then"
   ]
  },
  {
   "attachments": {},
   "cell_type": "markdown",
   "metadata": {},
   "source": [
    "\\begin{aligned}\n",
    "S^{k+1} &= \\underset{S}{\\mathrm{argmin}} \\text{ } \\mathcal{L}(L^{k+1}, S, Y^k) \\\\\\\n",
    "\n",
    "&= \\lambda|S|_1 + \\langle Y^k,M-L-S\\rangle + \\frac{\\mu_k}{2}|M-L-S|_F^2 \\\\\\\n",
    "\n",
    "&\\propto (\\lambda/\\mu_k)|S|_1 + |X-L+Y^k/\\mu^k|_F^2 \\\\\\\n",
    "\n",
    "&= \\mathcal{P}_{(\\lambda/\\mu_k)}(X-L+Y^k/\\mu^k)\n",
    "\\end{aligned}"
   ]
  },
  {
   "attachments": {},
   "cell_type": "markdown",
   "metadata": {},
   "source": [
    "where $\\mathcal{P}_{1\\mathbin{/}\\mu_k}$ is the soft thresholding operator. Section 6.5.2 of Boyd et al. is a good reference for the soft thresholding operator. It is commonly used to solve lasso regression. It is also a subroutine of the singular value thresholding operator."
   ]
  },
  {
   "attachments": {},
   "cell_type": "markdown",
   "metadata": {},
   "source": [
    "### **Implementation in Python with Numpy**\n",
    "Now that we have all the steps ready, we can start implementing. We will only need a Python environment with version 3.6+ (just because I like static type hinting feature) and numpy. You can easily set this up with conda or Pipenv."
   ]
  },
  {
   "cell_type": "code",
   "execution_count": 2,
   "metadata": {},
   "outputs": [],
   "source": [
    "import numpy as np\n",
    "import numpy.linalg as la"
   ]
  },
  {
   "attachments": {},
   "cell_type": "markdown",
   "metadata": {},
   "source": [
    "Let’s first start by defining the proximal operators:"
   ]
  },
  {
   "cell_type": "code",
   "execution_count": 3,
   "metadata": {},
   "outputs": [],
   "source": [
    "def soft_thresholding(y: np.ndarray, mu: float):\n",
    "    \"\"\"\n",
    "    Soft thresholding operator as explained in Section 6.5.2 of https://web.stanford.edu/~boyd/papers/pdf/prox_algs.pdf\n",
    "    Solves the following problem:\n",
    "    argmin_x (1/2)*||x-y||_F^2 + lmb*||x||_1\n",
    "\n",
    "    Parameters\n",
    "    ----------\n",
    "        y : np.ndarray\n",
    "            Target vector/matrix\n",
    "        lmb : float\n",
    "            Penalty parameter\n",
    "    Returns\n",
    "    -------\n",
    "        x : np.ndarray\n",
    "            argmin solution\n",
    "    \"\"\"\n",
    "    return np.sign(y) * np.clip(np.abs(y) - mu, a_min=0, a_max=None)\n",
    "\n",
    "\n",
    "def svd_shrinkage(y: np.ndarray, tau: float):\n",
    "    \"\"\"\n",
    "    SVD shrinakge operator as explained in Theorem 2.1 of https://statweb.stanford.edu/~candes/papers/SVT.pdf\n",
    "    Solves the following problem:\n",
    "    argmin_x (1/2)*||x-y||_F^2 + tau*||x||_*\n",
    "    \n",
    "    Parameters\n",
    "    ----------\n",
    "        y : np.ndarray\n",
    "            Target vector/matrix\n",
    "        tau : float\n",
    "            Penalty parameter\n",
    "    Returns\n",
    "    -------\n",
    "        x : np.ndarray\n",
    "            argmin solution\n",
    "    \n",
    "    \"\"\"\n",
    "    U, s, Vh = np.linalg.svd(y, full_matrices=False)\n",
    "    s_t = soft_thresholding(s, tau)\n",
    "    return U.dot(np.diag(s_t)).dot(Vh)"
   ]
  },
  {
   "attachments": {},
   "cell_type": "markdown",
   "metadata": {},
   "source": [
    "I want my API to follow a `scikit-learn`-like design so here’s how it should like at the end:\n",
    "```python\n",
    "rpca = RobustPCA(lmb=4e-3, max_iter=100)\n",
    "L, S = rpca.fit(X)\n",
    "```"
   ]
  },
  {
   "attachments": {},
   "cell_type": "markdown",
   "metadata": {},
   "source": [
    "The only difference is that `.fit` function doesn’t normally return anything in `scikit-learn` but I want it to return the low-rank and sparse components for the sake of simplicity.\n",
    "Then I start building the class with my main method `.fit`. Starting with `.fit` gives me a good idea about what other parameters I have to initialize or what submethods I’ll end up having to implement:"
   ]
  },
  {
   "cell_type": "code",
   "execution_count": 4,
   "metadata": {},
   "outputs": [],
   "source": [
    "def fit(self, M: np.ndarray):\n",
    "    mu = self.mu_0_\n",
    "    Y = M / self._J(M, mu)\n",
    "    S = np.zeros_like(M)\n",
    "    S_last = np.empty_like(S)\n",
    "    for k in range(self.max_iter_):\n",
    "        # Solve argmin_L ||M - (L + S) + Y/mu||_F^2 + (lmb/mu)*||L||_*\n",
    "        L = svd_shrinkage(M - S + Y/mu, 1/mu)\n",
    "\n",
    "        # Solve argmin_S ||M - (L + S) + Y/mu||_F^2 + (lmb/mu)*||S||_1\n",
    "        S_last = S.copy()\n",
    "        S = soft_thresholding(M - L + Y/mu, self.lmb_/mu)\n",
    "\n",
    "        # Update dual variables Y <- Y + mu * (M - S - L)\n",
    "        Y += mu*(M - S - L)\n",
    "        r, h = self._get_residuals(M, S, L, S_last, mu)\n",
    "\n",
    "        # Check stopping cirteria\n",
    "        tol_r, tol_h = self._update_tols(M, L, S, Y)\n",
    "        if r < tol_r and h < tol_h:\n",
    "            break\n",
    "\n",
    "        # Update mu\n",
    "        mu = self._update_mu(mu, r, h)\n",
    "\n",
    "    return L, S"
   ]
  },
  {
   "attachments": {},
   "cell_type": "markdown",
   "metadata": {},
   "source": [
    "The private methods I need, `._J`, `._get_residuals`, `._update_tols` and `._update_mu` are implemented as follows."
   ]
  },
  {
   "cell_type": "code",
   "execution_count": 5,
   "metadata": {},
   "outputs": [],
   "source": [
    "def _get_residuals(X: np.ndarray, S: np.ndarray, L: np.ndarray, S_last: np.ndarray, mu: float):\n",
    "    primal_residual = la.norm(X - S - L, ord=\"fro\")\n",
    "    dual_residual = mu*la.norm(S - S_last, ord=\"fro\")\n",
    "    return primal_residual, dual_residual\n",
    "\n",
    "def _update_mu(self, mu: float, r: float, h: float):\n",
    "    if r > self.tau_ * h:\n",
    "        return mu * self.rho_\n",
    "    elif h > self.tau_ * r:\n",
    "        return mu / self.rho_\n",
    "    else:\n",
    "        return mu\n",
    "\n",
    "def _update_tols(self, X, S, L, Y):\n",
    "    tol_primal = self.tol_rel_ * max(la.norm(X), la.norm(S), la.norm(L))\n",
    "    tol_dual = self.tol_rel_ * la.norm(Y)\n",
    "    return tol_primal, tol_dual\n",
    "\n",
    "def _J(self, X: np.ndarray, lmb: float):\n",
    "    return max(np.linalg.norm(X), np.max(np.abs(X))/lmb)"
   ]
  },
  {
   "attachments": {},
   "cell_type": "markdown",
   "metadata": {},
   "source": [
    "We haven’t talked about `._J`. It’s a dual variable initialization technqiue discussed in Section 3.1 of [Lin et al.](https://people.eecs.berkeley.edu/~yima/matrix-rank/Files/rpca_algorithms.pdf).\n",
    "\n",
    "The last part is to write an `__init__` function, add some docstrings and wrap everything up in a class."
   ]
  },
  {
   "cell_type": "code",
   "execution_count": 6,
   "metadata": {},
   "outputs": [],
   "source": [
    "class RobustPCA:\n",
    "    \"\"\"\n",
    "    Solves robust PCA using Inexact ALM as explained in Algorithm 5 of https://arxiv.org/pdf/1009.5055.pdf\n",
    "    Parameters\n",
    "    ----------\n",
    "        lmb: \n",
    "            penalty on sparse errors\n",
    "        mu_0: \n",
    "            initial lagrangian penalty\n",
    "        rho: \n",
    "            learning rate\n",
    "        tau:\n",
    "            mu update criterion parameter\n",
    "        max_iter:\n",
    "            max number of iterations for the algorithm to run\n",
    "        tol_rel:\n",
    "            relative tolerance\n",
    "        \n",
    "    \"\"\"\n",
    "    def __init__(self, lmb: float, mu_0: float=1e-5, rho: float=2, tau: float=10, \n",
    "                 max_iter: int=10, tol_rel: float=1e-3):\n",
    "        assert mu_0 > 0\n",
    "        assert lmb > 0\n",
    "        assert rho > 1\n",
    "        assert tau > 1\n",
    "        assert max_iter > 0\n",
    "        assert tol_rel > 0\n",
    "        self.mu_0_ = mu_0\n",
    "        self.lmb_ = lmb\n",
    "        self.rho_ = rho\n",
    "        self.tau_ = tau\n",
    "        self.max_iter_ = max_iter\n",
    "        self.tol_rel_ = tol_rel\n",
    "        \n",
    "    def fit(self, X: np.ndarray):\n",
    "        \"\"\"\n",
    "        Fits robust PCA to X and returns the low-rank and sparse components\n",
    "        Parameters\n",
    "        ----------\n",
    "            X:\n",
    "                Original data matrix\n",
    "\n",
    "        Returns\n",
    "        -------\n",
    "            L:\n",
    "                Low rank component of X\n",
    "            S:\n",
    "                Sparse error component of X\n",
    "        \"\"\"\n",
    "        assert X.ndim == 2\n",
    "        mu = self.mu_0_\n",
    "        Y = X / self._J(X, mu)\n",
    "        S = np.zeros_like(X)\n",
    "        S_last = np.empty_like(S)\n",
    "        for k in range(self.max_iter_):\n",
    "            # Solve argmin_L ||X - (L + S) + Y/mu||_F^2 + (lmb/mu)*||L||_*\n",
    "            L = svd_shrinkage(X - S + Y/mu, 1/mu)\n",
    "            \n",
    "            # Solve argmin_S ||X - (L + S) + Y/mu||_F^2 + (lmb/mu)*||S||_1\n",
    "            S_last = S.copy()\n",
    "            S = soft_thresholding(X - L + Y/mu, self.lmb_/mu)\n",
    "            \n",
    "            # Update dual variables Y <- Y + mu * (X - S - L)\n",
    "            Y += mu*(X - S - L)\n",
    "            r, h = self._get_residuals(X, S, L, S_last, mu)\n",
    "            \n",
    "            # Check stopping cirteria\n",
    "            tol_r, tol_h = self._update_tols(X, L, S, Y)\n",
    "            if r < tol_r and h < tol_h:\n",
    "                break\n",
    "                \n",
    "            # Update mu\n",
    "            mu = self._update_mu(mu, r, h)\n",
    "            \n",
    "        return L, S\n",
    "            \n",
    "    def _J(self, X: np.ndarray, lmb: float):\n",
    "        \"\"\"\n",
    "        The function J() required for initialization of dual variables as advised in Section 3.1 of \n",
    "        https://people.eecs.berkeley.edu/~yima/matrix-rank/Files/rpca_algorithms.pdf            \n",
    "        \"\"\"\n",
    "        return max(np.linalg.norm(X), np.max(np.abs(X))/lmb)\n",
    "    \n",
    "    @staticmethod\n",
    "    def _get_residuals(X: np.ndarray, S: np.ndarray, L: np.ndarray, S_last: np.ndarray, mu: float):\n",
    "        primal_residual = la.norm(X - S - L, ord=\"fro\")\n",
    "        dual_residual = mu*la.norm(S - S_last, ord=\"fro\")\n",
    "        return primal_residual, dual_residual\n",
    "    \n",
    "    def _update_mu(self, mu: float, r: float, h: float):\n",
    "        if r > self.tau_ * h:\n",
    "            return mu * self.rho_\n",
    "        elif h > self.tau_ * r:\n",
    "            return mu / self.rho_\n",
    "        else:\n",
    "            return mu\n",
    "        \n",
    "    def _update_tols(self, X, S, L, Y):\n",
    "        tol_primal = self.tol_rel_ * max(la.norm(X), la.norm(S), la.norm(L))\n",
    "        tol_dual = self.tol_rel_ * la.norm(Y)\n",
    "        return tol_primal, tol_dual"
   ]
  },
  {
   "attachments": {},
   "cell_type": "markdown",
   "metadata": {},
   "source": [
    "### **Complexity Analysis**\n",
    "All the norms and matrix additions/summations/multiplications are elementwise operations so that they’re $\\mathcal{O}(np)$ given that our matrix $X$ is an $n\\times p$\n",
    " matrix. **_The major bottleneck of algorithms involving nuclear norm is that they typically require singular value thresholding which reqiuires SVD._** Since we’re computing a skinny SVD, the complexity will be $\\mathcal{O}(np\\min(n,p))$. SVD also requires to fit the entire data into the memory so it’s inefficient in that sense too. This can become a huge issue if you want to scale this algorithm and the literature has addressed this issue in certain ways which I hope to discuss in another post."
   ]
  },
  {
   "attachments": {},
   "cell_type": "markdown",
   "metadata": {},
   "source": [
    "### **Things to Try**\n",
    "The algorithm is ready to use, but here are a few suggestions I have for you to play around with the code a little and interact with it:\n",
    "\n",
    "- Plot the interplay of `r`, `h` and `mu` over iterations to see the tug-of-war I mentioned earlier in action.\n",
    "- Take one frame and record its evolution over the course of the algorithm. Especially observe how the sparse component for that frame `S[frame,:]` changes over time.\n",
    "- You can estimate the rank of L\n",
    "\n",
    "A very accesible dataset is the cropped Yale B dataset where you have faces of different people taken under various lighting conditions. Just pick one or two people and incldue all the illumination conditions they have to see if you can extract their clean face in the low-rank component."
   ]
  },
  {
   "attachments": {},
   "cell_type": "markdown",
   "metadata": {},
   "source": []
  }
 ],
 "metadata": {
  "kernelspec": {
   "display_name": "Robust_OD_port_infras",
   "language": "python",
   "name": "python3"
  },
  "language_info": {
   "codemirror_mode": {
    "name": "ipython",
    "version": 3
   },
   "file_extension": ".py",
   "mimetype": "text/x-python",
   "name": "python",
   "nbconvert_exporter": "python",
   "pygments_lexer": "ipython3",
   "version": "3.8.16"
  },
  "orig_nbformat": 4
 },
 "nbformat": 4,
 "nbformat_minor": 2
}
