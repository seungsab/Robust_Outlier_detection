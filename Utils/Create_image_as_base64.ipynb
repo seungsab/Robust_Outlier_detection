{
 "cells": [
  {
   "cell_type": "code",
   "execution_count": 1,
   "metadata": {},
   "outputs": [],
   "source": [
    "def image_to_base64(image_file, output_file):\n",
    "\n",
    "    # need base 64\n",
    "    import base64,sys\n",
    "    # open the image\n",
    "    image = open(image_file, 'rb') \n",
    "    # read it\n",
    "    image_read = image.read() \n",
    "    # encode it as base 64\n",
    "    # after python>=3.9, use `encodebytes` instead of `encodestring`  \n",
    "    image_64_encode = base64.encodestring(image_read) if sys.version_info <(3,9) else base64.encodebytes(image_read)\n",
    "    # convert the image base 64 to a string\n",
    "    image_string = str(image_64_encode)\n",
    "    # replace the newline characters\n",
    "    image_string = image_string.replace(\"\\\\n\", \"\")\n",
    "    # replace the initial binary\n",
    "    image_string = image_string.replace(\"b'\", \"\")\n",
    "    # replace the final question mark\n",
    "    image_string = image_string.replace(\"'\", \"\")\n",
    "    # add the image tags\n",
    "    image_string = '<center> <p><img src=\"data:image/png;base64,' + image_string + '\"></p> </center>'\n",
    "    # write it out\n",
    "    image_result = open(output_file, 'w')\n",
    "    image_result.write(image_string)"
   ]
  },
  {
   "cell_type": "code",
   "execution_count": 2,
   "metadata": {},
   "outputs": [
    {
     "ename": "FileNotFoundError",
     "evalue": "[Errno 2] No such file or directory: 'fig1.gif'",
     "output_type": "error",
     "traceback": [
      "\u001b[1;31m---------------------------------------------------------------------------\u001b[0m",
      "\u001b[1;31mFileNotFoundError\u001b[0m                         Traceback (most recent call last)",
      "Cell \u001b[1;32mIn[2], line 3\u001b[0m\n\u001b[0;32m      1\u001b[0m image_file, output_file \u001b[39m=\u001b[39m \u001b[39m'\u001b[39m\u001b[39mfig1.PNG\u001b[39m\u001b[39m'\u001b[39m, \u001b[39m'\u001b[39m\u001b[39moutput.txt\u001b[39m\u001b[39m'\u001b[39m\n\u001b[0;32m      2\u001b[0m image_file, output_file \u001b[39m=\u001b[39m \u001b[39m'\u001b[39m\u001b[39mfig1.gif\u001b[39m\u001b[39m'\u001b[39m, \u001b[39m'\u001b[39m\u001b[39moutput.txt\u001b[39m\u001b[39m'\u001b[39m\n\u001b[1;32m----> 3\u001b[0m image_to_base64(image_file, output_file)\n",
      "Cell \u001b[1;32mIn[1], line 6\u001b[0m, in \u001b[0;36mimage_to_base64\u001b[1;34m(image_file, output_file)\u001b[0m\n\u001b[0;32m      4\u001b[0m \u001b[39mimport\u001b[39;00m \u001b[39mbase64\u001b[39;00m\u001b[39m,\u001b[39m\u001b[39msys\u001b[39;00m\n\u001b[0;32m      5\u001b[0m \u001b[39m# open the image\u001b[39;00m\n\u001b[1;32m----> 6\u001b[0m image \u001b[39m=\u001b[39m \u001b[39mopen\u001b[39;49m(image_file, \u001b[39m'\u001b[39;49m\u001b[39mrb\u001b[39;49m\u001b[39m'\u001b[39;49m) \n\u001b[0;32m      7\u001b[0m \u001b[39m# read it\u001b[39;00m\n\u001b[0;32m      8\u001b[0m image_read \u001b[39m=\u001b[39m image\u001b[39m.\u001b[39mread() \n",
      "File \u001b[1;32mc:\\Users\\seungsab\\anaconda3\\envs\\Robust_OD_port_infras\\lib\\site-packages\\IPython\\core\\interactiveshell.py:282\u001b[0m, in \u001b[0;36m_modified_open\u001b[1;34m(file, *args, **kwargs)\u001b[0m\n\u001b[0;32m    275\u001b[0m \u001b[39mif\u001b[39;00m file \u001b[39min\u001b[39;00m {\u001b[39m0\u001b[39m, \u001b[39m1\u001b[39m, \u001b[39m2\u001b[39m}:\n\u001b[0;32m    276\u001b[0m     \u001b[39mraise\u001b[39;00m \u001b[39mValueError\u001b[39;00m(\n\u001b[0;32m    277\u001b[0m         \u001b[39mf\u001b[39m\u001b[39m\"\u001b[39m\u001b[39mIPython won\u001b[39m\u001b[39m'\u001b[39m\u001b[39mt let you open fd=\u001b[39m\u001b[39m{\u001b[39;00mfile\u001b[39m}\u001b[39;00m\u001b[39m by default \u001b[39m\u001b[39m\"\u001b[39m\n\u001b[0;32m    278\u001b[0m         \u001b[39m\"\u001b[39m\u001b[39mas it is likely to crash IPython. If you know what you are doing, \u001b[39m\u001b[39m\"\u001b[39m\n\u001b[0;32m    279\u001b[0m         \u001b[39m\"\u001b[39m\u001b[39myou can use builtins\u001b[39m\u001b[39m'\u001b[39m\u001b[39m open.\u001b[39m\u001b[39m\"\u001b[39m\n\u001b[0;32m    280\u001b[0m     )\n\u001b[1;32m--> 282\u001b[0m \u001b[39mreturn\u001b[39;00m io_open(file, \u001b[39m*\u001b[39;49margs, \u001b[39m*\u001b[39;49m\u001b[39m*\u001b[39;49mkwargs)\n",
      "\u001b[1;31mFileNotFoundError\u001b[0m: [Errno 2] No such file or directory: 'fig1.gif'"
     ]
    }
   ],
   "source": [
    "image_file, output_file = 'fig1.PNG', 'output.txt'\n",
    "image_file, output_file = 'fig.gif', 'output.txt'\n",
    "image_to_base64(image_file, output_file)"
   ]
  },
  {
   "cell_type": "code",
   "execution_count": null,
   "metadata": {},
   "outputs": [],
   "source": []
  }
 ],
 "metadata": {
  "kernelspec": {
   "display_name": "Python 3.9.7 ('base')",
   "language": "python",
   "name": "python3"
  },
  "language_info": {
   "codemirror_mode": {
    "name": "ipython",
    "version": 3
   },
   "file_extension": ".py",
   "mimetype": "text/x-python",
   "name": "python",
   "nbconvert_exporter": "python",
   "pygments_lexer": "ipython3",
   "version": "3.8.16"
  },
  "orig_nbformat": 4,
  "vscode": {
   "interpreter": {
    "hash": "7fc01af35767669e38383a864c3248712d47613431575e820d0f2cc9b672034f"
   }
  }
 },
 "nbformat": 4,
 "nbformat_minor": 2
}
