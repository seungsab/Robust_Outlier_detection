{
 "cells": [
  {
   "cell_type": "code",
   "execution_count": 1,
   "metadata": {},
   "outputs": [],
   "source": [
    "def image_to_base64(image_file, output_file):\n",
    "\n",
    "    # need base 64\n",
    "    import base64,sys\n",
    "    # open the image\n",
    "    image = open(image_file, 'rb') \n",
    "    # read it\n",
    "    image_read = image.read() \n",
    "    # encode it as base 64\n",
    "    # after python>=3.9, use `encodebytes` instead of `encodestring`  \n",
    "    image_64_encode = base64.encodestring(image_read) if sys.version_info <(3,9) else base64.encodebytes(image_read)\n",
    "    # convert the image base 64 to a string\n",
    "    image_string = str(image_64_encode)\n",
    "    # replace the newline characters\n",
    "    image_string = image_string.replace(\"\\\\n\", \"\")\n",
    "    # replace the initial binary\n",
    "    image_string = image_string.replace(\"b'\", \"\")\n",
    "    # replace the final question mark\n",
    "    image_string = image_string.replace(\"'\", \"\")\n",
    "    # add the image tags\n",
    "    image_string = '<center> <p><img src=\"data:image/png;base64,' + image_string + '\"></p> </center>'\n",
    "    # write it out\n",
    "    image_result = open(output_file, 'w')\n",
    "    image_result.write(image_string)"
   ]
  },
  {
   "cell_type": "code",
   "execution_count": 4,
   "metadata": {},
   "outputs": [
    {
     "name": "stderr",
     "output_type": "stream",
     "text": [
      "C:\\Users\\user\\AppData\\Local\\Temp\\ipykernel_29040\\3271335969.py:11: DeprecationWarning: encodestring() is a deprecated alias since 3.1, use encodebytes()\n",
      "  image_64_encode = base64.encodestring(image_read) if sys.version_info <(3,9) else base64.encodebytes(image_read)\n"
     ]
    }
   ],
   "source": [
    "image_file, output_file = 'fig1.PNG', 'output.txt'\n",
    "image_file, output_file = 'fig.gif', 'output.txt'\n",
    "image_file, output_file = 'fig.png', 'output.txt'\n",
    "image_to_base64(image_file, output_file)"
   ]
  },
  {
   "cell_type": "code",
   "execution_count": null,
   "metadata": {},
   "outputs": [],
   "source": []
  }
 ],
 "metadata": {
  "kernelspec": {
   "display_name": "Python 3.9.7 ('base')",
   "language": "python",
   "name": "python3"
  },
  "language_info": {
   "codemirror_mode": {
    "name": "ipython",
    "version": 3
   },
   "file_extension": ".py",
   "mimetype": "text/x-python",
   "name": "python",
   "nbconvert_exporter": "python",
   "pygments_lexer": "ipython3",
   "version": "3.8.16"
  },
  "orig_nbformat": 4,
  "vscode": {
   "interpreter": {
    "hash": "7fc01af35767669e38383a864c3248712d47613431575e820d0f2cc9b672034f"
   }
  }
 },
 "nbformat": 4,
 "nbformat_minor": 2
}
